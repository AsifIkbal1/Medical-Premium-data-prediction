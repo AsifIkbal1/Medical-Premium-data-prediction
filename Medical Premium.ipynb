{
 "cells": [
  {
   "cell_type": "code",
   "execution_count": 1,
   "metadata": {},
   "outputs": [],
   "source": [
    "import pandas as pd\n",
    "from pandas.plotting import scatter_matrix\n",
    "import matplotlib.pyplot as plt\n",
    "from sklearn import model_selection\n",
    "from sklearn.metrics import classification_report\n",
    "from sklearn.metrics import confusion_matrix\n",
    "from sklearn.metrics import accuracy_score\n",
    "from sklearn.linear_model import LogisticRegression\n",
    "from sklearn.tree import DecisionTreeClassifier\n",
    "from sklearn.neighbors import KNeighborsClassifier\n",
    "from sklearn.discriminant_analysis import LinearDiscriminantAnalysis\n",
    "from sklearn.naive_bayes import GaussianNB\n",
    "from sklearn.svm import SVC\n",
    "from sklearn.model_selection import train_test_split\n",
    "from sklearn.linear_model import LinearRegression\n",
    "from sklearn.linear_model import LogisticRegression\n",
    "import numpy as np\n",
    "import pandas as pd\n",
    "from sklearn.preprocessing import StandardScaler\n",
    "from sklearn.metrics import f1_score\n",
    "from sklearn.metrics import accuracy_score\n",
    "%matplotlib inline\n",
    "import seaborn as sns\n",
    "import pandas as pd\n",
    "from sklearn.naive_bayes import GaussianNB\n",
    "from sklearn.model_selection import train_test_split\n",
    "from sklearn.preprocessing import LabelEncoder"
   ]
  },
  {
   "cell_type": "code",
   "execution_count": 4,
   "metadata": {},
   "outputs": [
    {
     "data": {
      "text/html": [
       "<div>\n",
       "<style scoped>\n",
       "    .dataframe tbody tr th:only-of-type {\n",
       "        vertical-align: middle;\n",
       "    }\n",
       "\n",
       "    .dataframe tbody tr th {\n",
       "        vertical-align: top;\n",
       "    }\n",
       "\n",
       "    .dataframe thead th {\n",
       "        text-align: right;\n",
       "    }\n",
       "</style>\n",
       "<table border=\"1\" class=\"dataframe\">\n",
       "  <thead>\n",
       "    <tr style=\"text-align: right;\">\n",
       "      <th></th>\n",
       "      <th>Age</th>\n",
       "      <th>Diabetes</th>\n",
       "      <th>BloodPressureProblems</th>\n",
       "      <th>AnyTransplants</th>\n",
       "      <th>AnyChronicDiseases</th>\n",
       "      <th>Height</th>\n",
       "      <th>Weight</th>\n",
       "      <th>KnownAllergies</th>\n",
       "      <th>HistoryOfCancerInFamily</th>\n",
       "      <th>NumberOfMajorSurgeries</th>\n",
       "      <th>PremiumPrice</th>\n",
       "    </tr>\n",
       "  </thead>\n",
       "  <tbody>\n",
       "    <tr>\n",
       "      <th>0</th>\n",
       "      <td>45</td>\n",
       "      <td>0</td>\n",
       "      <td>0</td>\n",
       "      <td>0</td>\n",
       "      <td>0</td>\n",
       "      <td>155</td>\n",
       "      <td>57</td>\n",
       "      <td>0</td>\n",
       "      <td>0</td>\n",
       "      <td>0</td>\n",
       "      <td>25000</td>\n",
       "    </tr>\n",
       "    <tr>\n",
       "      <th>1</th>\n",
       "      <td>60</td>\n",
       "      <td>1</td>\n",
       "      <td>0</td>\n",
       "      <td>0</td>\n",
       "      <td>0</td>\n",
       "      <td>180</td>\n",
       "      <td>73</td>\n",
       "      <td>0</td>\n",
       "      <td>0</td>\n",
       "      <td>0</td>\n",
       "      <td>29000</td>\n",
       "    </tr>\n",
       "    <tr>\n",
       "      <th>2</th>\n",
       "      <td>36</td>\n",
       "      <td>1</td>\n",
       "      <td>1</td>\n",
       "      <td>0</td>\n",
       "      <td>0</td>\n",
       "      <td>158</td>\n",
       "      <td>59</td>\n",
       "      <td>0</td>\n",
       "      <td>0</td>\n",
       "      <td>1</td>\n",
       "      <td>23000</td>\n",
       "    </tr>\n",
       "    <tr>\n",
       "      <th>3</th>\n",
       "      <td>52</td>\n",
       "      <td>1</td>\n",
       "      <td>1</td>\n",
       "      <td>0</td>\n",
       "      <td>1</td>\n",
       "      <td>183</td>\n",
       "      <td>93</td>\n",
       "      <td>0</td>\n",
       "      <td>0</td>\n",
       "      <td>2</td>\n",
       "      <td>28000</td>\n",
       "    </tr>\n",
       "    <tr>\n",
       "      <th>4</th>\n",
       "      <td>38</td>\n",
       "      <td>0</td>\n",
       "      <td>0</td>\n",
       "      <td>0</td>\n",
       "      <td>1</td>\n",
       "      <td>166</td>\n",
       "      <td>88</td>\n",
       "      <td>0</td>\n",
       "      <td>0</td>\n",
       "      <td>1</td>\n",
       "      <td>23000</td>\n",
       "    </tr>\n",
       "  </tbody>\n",
       "</table>\n",
       "</div>"
      ],
      "text/plain": [
       "   Age  Diabetes  BloodPressureProblems  AnyTransplants  AnyChronicDiseases  \\\n",
       "0   45         0                      0               0                   0   \n",
       "1   60         1                      0               0                   0   \n",
       "2   36         1                      1               0                   0   \n",
       "3   52         1                      1               0                   1   \n",
       "4   38         0                      0               0                   1   \n",
       "\n",
       "   Height  Weight  KnownAllergies  HistoryOfCancerInFamily  \\\n",
       "0     155      57               0                        0   \n",
       "1     180      73               0                        0   \n",
       "2     158      59               0                        0   \n",
       "3     183      93               0                        0   \n",
       "4     166      88               0                        0   \n",
       "\n",
       "   NumberOfMajorSurgeries  PremiumPrice  \n",
       "0                       0         25000  \n",
       "1                       0         29000  \n",
       "2                       1         23000  \n",
       "3                       2         28000  \n",
       "4                       1         23000  "
      ]
     },
     "execution_count": 4,
     "metadata": {},
     "output_type": "execute_result"
    }
   ],
   "source": [
    "df=pd.read_csv('file:///F:/Medicalpremium.csv')\n",
    "df.head()"
   ]
  },
  {
   "cell_type": "code",
   "execution_count": 5,
   "metadata": {},
   "outputs": [
    {
     "data": {
      "text/plain": [
       "(986, 11)"
      ]
     },
     "execution_count": 5,
     "metadata": {},
     "output_type": "execute_result"
    }
   ],
   "source": [
    "df.shape"
   ]
  },
  {
   "cell_type": "code",
   "execution_count": 6,
   "metadata": {},
   "outputs": [
    {
     "data": {
      "text/plain": [
       "Age                        0\n",
       "Diabetes                   0\n",
       "BloodPressureProblems      0\n",
       "AnyTransplants             0\n",
       "AnyChronicDiseases         0\n",
       "Height                     0\n",
       "Weight                     0\n",
       "KnownAllergies             0\n",
       "HistoryOfCancerInFamily    0\n",
       "NumberOfMajorSurgeries     0\n",
       "PremiumPrice               0\n",
       "dtype: int64"
      ]
     },
     "execution_count": 6,
     "metadata": {},
     "output_type": "execute_result"
    }
   ],
   "source": [
    "df.isnull().sum()"
   ]
  },
  {
   "cell_type": "code",
   "execution_count": 7,
   "metadata": {},
   "outputs": [
    {
     "data": {
      "text/plain": [
       "Age                        int64\n",
       "Diabetes                   int64\n",
       "BloodPressureProblems      int64\n",
       "AnyTransplants             int64\n",
       "AnyChronicDiseases         int64\n",
       "Height                     int64\n",
       "Weight                     int64\n",
       "KnownAllergies             int64\n",
       "HistoryOfCancerInFamily    int64\n",
       "NumberOfMajorSurgeries     int64\n",
       "PremiumPrice               int64\n",
       "dtype: object"
      ]
     },
     "execution_count": 7,
     "metadata": {},
     "output_type": "execute_result"
    }
   ],
   "source": [
    "df.dtypes"
   ]
  },
  {
   "cell_type": "code",
   "execution_count": 8,
   "metadata": {
    "scrolled": true
   },
   "outputs": [
    {
     "data": {
      "text/plain": [
       "<bound method DataFrame.info of      Age  Diabetes  BloodPressureProblems  AnyTransplants  AnyChronicDiseases  \\\n",
       "0     45         0                      0               0                   0   \n",
       "1     60         1                      0               0                   0   \n",
       "2     36         1                      1               0                   0   \n",
       "3     52         1                      1               0                   1   \n",
       "4     38         0                      0               0                   1   \n",
       "..   ...       ...                    ...             ...                 ...   \n",
       "981   18         0                      0               0                   0   \n",
       "982   64         1                      1               0                   0   \n",
       "983   56         0                      1               0                   0   \n",
       "984   47         1                      1               0                   0   \n",
       "985   21         0                      0               0                   0   \n",
       "\n",
       "     Height  Weight  KnownAllergies  HistoryOfCancerInFamily  \\\n",
       "0       155      57               0                        0   \n",
       "1       180      73               0                        0   \n",
       "2       158      59               0                        0   \n",
       "3       183      93               0                        0   \n",
       "4       166      88               0                        0   \n",
       "..      ...     ...             ...                      ...   \n",
       "981     169      67               0                        0   \n",
       "982     153      70               0                        0   \n",
       "983     155      71               0                        0   \n",
       "984     158      73               1                        0   \n",
       "985     158      75               1                        0   \n",
       "\n",
       "     NumberOfMajorSurgeries  PremiumPrice  \n",
       "0                         0         25000  \n",
       "1                         0         29000  \n",
       "2                         1         23000  \n",
       "3                         2         28000  \n",
       "4                         1         23000  \n",
       "..                      ...           ...  \n",
       "981                       0         15000  \n",
       "982                       3         28000  \n",
       "983                       1         29000  \n",
       "984                       1         39000  \n",
       "985                       1         15000  \n",
       "\n",
       "[986 rows x 11 columns]>"
      ]
     },
     "execution_count": 8,
     "metadata": {},
     "output_type": "execute_result"
    }
   ],
   "source": [
    "df.info"
   ]
  },
  {
   "cell_type": "code",
   "execution_count": 9,
   "metadata": {},
   "outputs": [
    {
     "data": {
      "text/html": [
       "<div>\n",
       "<style scoped>\n",
       "    .dataframe tbody tr th:only-of-type {\n",
       "        vertical-align: middle;\n",
       "    }\n",
       "\n",
       "    .dataframe tbody tr th {\n",
       "        vertical-align: top;\n",
       "    }\n",
       "\n",
       "    .dataframe thead th {\n",
       "        text-align: right;\n",
       "    }\n",
       "</style>\n",
       "<table border=\"1\" class=\"dataframe\">\n",
       "  <thead>\n",
       "    <tr style=\"text-align: right;\">\n",
       "      <th></th>\n",
       "      <th>Age</th>\n",
       "      <th>Diabetes</th>\n",
       "      <th>BloodPressureProblems</th>\n",
       "      <th>AnyTransplants</th>\n",
       "      <th>AnyChronicDiseases</th>\n",
       "      <th>Height</th>\n",
       "      <th>Weight</th>\n",
       "      <th>KnownAllergies</th>\n",
       "      <th>HistoryOfCancerInFamily</th>\n",
       "      <th>NumberOfMajorSurgeries</th>\n",
       "      <th>PremiumPrice</th>\n",
       "    </tr>\n",
       "  </thead>\n",
       "  <tbody>\n",
       "    <tr>\n",
       "      <th>count</th>\n",
       "      <td>986.000000</td>\n",
       "      <td>986.000000</td>\n",
       "      <td>986.000000</td>\n",
       "      <td>986.000000</td>\n",
       "      <td>986.000000</td>\n",
       "      <td>986.000000</td>\n",
       "      <td>986.000000</td>\n",
       "      <td>986.000000</td>\n",
       "      <td>986.000000</td>\n",
       "      <td>986.000000</td>\n",
       "      <td>986.000000</td>\n",
       "    </tr>\n",
       "    <tr>\n",
       "      <th>mean</th>\n",
       "      <td>41.745436</td>\n",
       "      <td>0.419878</td>\n",
       "      <td>0.468560</td>\n",
       "      <td>0.055781</td>\n",
       "      <td>0.180527</td>\n",
       "      <td>168.182556</td>\n",
       "      <td>76.950304</td>\n",
       "      <td>0.215010</td>\n",
       "      <td>0.117647</td>\n",
       "      <td>0.667343</td>\n",
       "      <td>24336.713996</td>\n",
       "    </tr>\n",
       "    <tr>\n",
       "      <th>std</th>\n",
       "      <td>13.963371</td>\n",
       "      <td>0.493789</td>\n",
       "      <td>0.499264</td>\n",
       "      <td>0.229615</td>\n",
       "      <td>0.384821</td>\n",
       "      <td>10.098155</td>\n",
       "      <td>14.265096</td>\n",
       "      <td>0.411038</td>\n",
       "      <td>0.322353</td>\n",
       "      <td>0.749205</td>\n",
       "      <td>6248.184382</td>\n",
       "    </tr>\n",
       "    <tr>\n",
       "      <th>min</th>\n",
       "      <td>18.000000</td>\n",
       "      <td>0.000000</td>\n",
       "      <td>0.000000</td>\n",
       "      <td>0.000000</td>\n",
       "      <td>0.000000</td>\n",
       "      <td>145.000000</td>\n",
       "      <td>51.000000</td>\n",
       "      <td>0.000000</td>\n",
       "      <td>0.000000</td>\n",
       "      <td>0.000000</td>\n",
       "      <td>15000.000000</td>\n",
       "    </tr>\n",
       "    <tr>\n",
       "      <th>25%</th>\n",
       "      <td>30.000000</td>\n",
       "      <td>0.000000</td>\n",
       "      <td>0.000000</td>\n",
       "      <td>0.000000</td>\n",
       "      <td>0.000000</td>\n",
       "      <td>161.000000</td>\n",
       "      <td>67.000000</td>\n",
       "      <td>0.000000</td>\n",
       "      <td>0.000000</td>\n",
       "      <td>0.000000</td>\n",
       "      <td>21000.000000</td>\n",
       "    </tr>\n",
       "    <tr>\n",
       "      <th>50%</th>\n",
       "      <td>42.000000</td>\n",
       "      <td>0.000000</td>\n",
       "      <td>0.000000</td>\n",
       "      <td>0.000000</td>\n",
       "      <td>0.000000</td>\n",
       "      <td>168.000000</td>\n",
       "      <td>75.000000</td>\n",
       "      <td>0.000000</td>\n",
       "      <td>0.000000</td>\n",
       "      <td>1.000000</td>\n",
       "      <td>23000.000000</td>\n",
       "    </tr>\n",
       "    <tr>\n",
       "      <th>75%</th>\n",
       "      <td>53.000000</td>\n",
       "      <td>1.000000</td>\n",
       "      <td>1.000000</td>\n",
       "      <td>0.000000</td>\n",
       "      <td>0.000000</td>\n",
       "      <td>176.000000</td>\n",
       "      <td>87.000000</td>\n",
       "      <td>0.000000</td>\n",
       "      <td>0.000000</td>\n",
       "      <td>1.000000</td>\n",
       "      <td>28000.000000</td>\n",
       "    </tr>\n",
       "    <tr>\n",
       "      <th>max</th>\n",
       "      <td>66.000000</td>\n",
       "      <td>1.000000</td>\n",
       "      <td>1.000000</td>\n",
       "      <td>1.000000</td>\n",
       "      <td>1.000000</td>\n",
       "      <td>188.000000</td>\n",
       "      <td>132.000000</td>\n",
       "      <td>1.000000</td>\n",
       "      <td>1.000000</td>\n",
       "      <td>3.000000</td>\n",
       "      <td>40000.000000</td>\n",
       "    </tr>\n",
       "  </tbody>\n",
       "</table>\n",
       "</div>"
      ],
      "text/plain": [
       "              Age    Diabetes  BloodPressureProblems  AnyTransplants  \\\n",
       "count  986.000000  986.000000             986.000000      986.000000   \n",
       "mean    41.745436    0.419878               0.468560        0.055781   \n",
       "std     13.963371    0.493789               0.499264        0.229615   \n",
       "min     18.000000    0.000000               0.000000        0.000000   \n",
       "25%     30.000000    0.000000               0.000000        0.000000   \n",
       "50%     42.000000    0.000000               0.000000        0.000000   \n",
       "75%     53.000000    1.000000               1.000000        0.000000   \n",
       "max     66.000000    1.000000               1.000000        1.000000   \n",
       "\n",
       "       AnyChronicDiseases      Height      Weight  KnownAllergies  \\\n",
       "count          986.000000  986.000000  986.000000      986.000000   \n",
       "mean             0.180527  168.182556   76.950304        0.215010   \n",
       "std              0.384821   10.098155   14.265096        0.411038   \n",
       "min              0.000000  145.000000   51.000000        0.000000   \n",
       "25%              0.000000  161.000000   67.000000        0.000000   \n",
       "50%              0.000000  168.000000   75.000000        0.000000   \n",
       "75%              0.000000  176.000000   87.000000        0.000000   \n",
       "max              1.000000  188.000000  132.000000        1.000000   \n",
       "\n",
       "       HistoryOfCancerInFamily  NumberOfMajorSurgeries  PremiumPrice  \n",
       "count               986.000000              986.000000    986.000000  \n",
       "mean                  0.117647                0.667343  24336.713996  \n",
       "std                   0.322353                0.749205   6248.184382  \n",
       "min                   0.000000                0.000000  15000.000000  \n",
       "25%                   0.000000                0.000000  21000.000000  \n",
       "50%                   0.000000                1.000000  23000.000000  \n",
       "75%                   0.000000                1.000000  28000.000000  \n",
       "max                   1.000000                3.000000  40000.000000  "
      ]
     },
     "execution_count": 9,
     "metadata": {},
     "output_type": "execute_result"
    }
   ],
   "source": [
    "df.describe()"
   ]
  },
  {
   "cell_type": "code",
   "execution_count": 10,
   "metadata": {},
   "outputs": [
    {
     "data": {
      "text/html": [
       "<div>\n",
       "<style scoped>\n",
       "    .dataframe tbody tr th:only-of-type {\n",
       "        vertical-align: middle;\n",
       "    }\n",
       "\n",
       "    .dataframe tbody tr th {\n",
       "        vertical-align: top;\n",
       "    }\n",
       "\n",
       "    .dataframe thead th {\n",
       "        text-align: right;\n",
       "    }\n",
       "</style>\n",
       "<table border=\"1\" class=\"dataframe\">\n",
       "  <thead>\n",
       "    <tr style=\"text-align: right;\">\n",
       "      <th></th>\n",
       "      <th>Age</th>\n",
       "      <th>Diabetes</th>\n",
       "      <th>BloodPressureProblems</th>\n",
       "      <th>AnyTransplants</th>\n",
       "      <th>AnyChronicDiseases</th>\n",
       "      <th>Height</th>\n",
       "      <th>Weight</th>\n",
       "      <th>KnownAllergies</th>\n",
       "      <th>HistoryOfCancerInFamily</th>\n",
       "      <th>NumberOfMajorSurgeries</th>\n",
       "      <th>PremiumPrice</th>\n",
       "    </tr>\n",
       "  </thead>\n",
       "  <tbody>\n",
       "    <tr>\n",
       "      <th>count</th>\n",
       "      <td>11.000000</td>\n",
       "      <td>11.000000</td>\n",
       "      <td>11.000000</td>\n",
       "      <td>11.000000</td>\n",
       "      <td>11.000000</td>\n",
       "      <td>11.000000</td>\n",
       "      <td>11.000000</td>\n",
       "      <td>11.000000</td>\n",
       "      <td>11.000000</td>\n",
       "      <td>11.000000</td>\n",
       "      <td>11.000000</td>\n",
       "    </tr>\n",
       "    <tr>\n",
       "      <th>mean</th>\n",
       "      <td>0.235845</td>\n",
       "      <td>0.113410</td>\n",
       "      <td>0.159083</td>\n",
       "      <td>0.109336</td>\n",
       "      <td>0.114650</td>\n",
       "      <td>0.104140</td>\n",
       "      <td>0.100720</td>\n",
       "      <td>0.101554</td>\n",
       "      <td>0.125345</td>\n",
       "      <td>0.220560</td>\n",
       "      <td>0.269675</td>\n",
       "    </tr>\n",
       "    <tr>\n",
       "      <th>std</th>\n",
       "      <td>0.341956</td>\n",
       "      <td>0.309781</td>\n",
       "      <td>0.299900</td>\n",
       "      <td>0.309313</td>\n",
       "      <td>0.302861</td>\n",
       "      <td>0.298965</td>\n",
       "      <td>0.303341</td>\n",
       "      <td>0.303352</td>\n",
       "      <td>0.299900</td>\n",
       "      <td>0.292394</td>\n",
       "      <td>0.307413</td>\n",
       "    </tr>\n",
       "    <tr>\n",
       "      <th>min</th>\n",
       "      <td>-0.027623</td>\n",
       "      <td>-0.089428</td>\n",
       "      <td>-0.061016</td>\n",
       "      <td>-0.036652</td>\n",
       "      <td>-0.089428</td>\n",
       "      <td>-0.037926</td>\n",
       "      <td>-0.061016</td>\n",
       "      <td>-0.080102</td>\n",
       "      <td>-0.055527</td>\n",
       "      <td>-0.006108</td>\n",
       "      <td>0.012103</td>\n",
       "    </tr>\n",
       "    <tr>\n",
       "      <th>25%</th>\n",
       "      <td>-0.013570</td>\n",
       "      <td>-0.046089</td>\n",
       "      <td>-0.018044</td>\n",
       "      <td>-0.022354</td>\n",
       "      <td>-0.009376</td>\n",
       "      <td>-0.006991</td>\n",
       "      <td>-0.021577</td>\n",
       "      <td>-0.017983</td>\n",
       "      <td>-0.008345</td>\n",
       "      <td>0.026062</td>\n",
       "      <td>0.079674</td>\n",
       "    </tr>\n",
       "    <tr>\n",
       "      <th>50%</th>\n",
       "      <td>0.051072</td>\n",
       "      <td>-0.003783</td>\n",
       "      <td>0.048239</td>\n",
       "      <td>-0.004154</td>\n",
       "      <td>0.035285</td>\n",
       "      <td>0.026910</td>\n",
       "      <td>0.002087</td>\n",
       "      <td>0.001876</td>\n",
       "      <td>0.010549</td>\n",
       "      <td>0.122722</td>\n",
       "      <td>0.167097</td>\n",
       "    </tr>\n",
       "    <tr>\n",
       "      <th>75%</th>\n",
       "      <td>0.337035</td>\n",
       "      <td>0.125224</td>\n",
       "      <td>0.205993</td>\n",
       "      <td>0.018686</td>\n",
       "      <td>0.049245</td>\n",
       "      <td>0.043649</td>\n",
       "      <td>0.052219</td>\n",
       "      <td>0.070708</td>\n",
       "      <td>0.099261</td>\n",
       "      <td>0.257909</td>\n",
       "      <td>0.276653</td>\n",
       "    </tr>\n",
       "    <tr>\n",
       "      <th>max</th>\n",
       "      <td>1.000000</td>\n",
       "      <td>1.000000</td>\n",
       "      <td>1.000000</td>\n",
       "      <td>1.000000</td>\n",
       "      <td>1.000000</td>\n",
       "      <td>1.000000</td>\n",
       "      <td>1.000000</td>\n",
       "      <td>1.000000</td>\n",
       "      <td>1.000000</td>\n",
       "      <td>1.000000</td>\n",
       "      <td>1.000000</td>\n",
       "    </tr>\n",
       "  </tbody>\n",
       "</table>\n",
       "</div>"
      ],
      "text/plain": [
       "             Age   Diabetes  BloodPressureProblems  AnyTransplants  \\\n",
       "count  11.000000  11.000000              11.000000       11.000000   \n",
       "mean    0.235845   0.113410               0.159083        0.109336   \n",
       "std     0.341956   0.309781               0.299900        0.309313   \n",
       "min    -0.027623  -0.089428              -0.061016       -0.036652   \n",
       "25%    -0.013570  -0.046089              -0.018044       -0.022354   \n",
       "50%     0.051072  -0.003783               0.048239       -0.004154   \n",
       "75%     0.337035   0.125224               0.205993        0.018686   \n",
       "max     1.000000   1.000000               1.000000        1.000000   \n",
       "\n",
       "       AnyChronicDiseases     Height     Weight  KnownAllergies  \\\n",
       "count           11.000000  11.000000  11.000000       11.000000   \n",
       "mean             0.114650   0.104140   0.100720        0.101554   \n",
       "std              0.302861   0.298965   0.303341        0.303352   \n",
       "min             -0.089428  -0.037926  -0.061016       -0.080102   \n",
       "25%             -0.009376  -0.006991  -0.021577       -0.017983   \n",
       "50%              0.035285   0.026910   0.002087        0.001876   \n",
       "75%              0.049245   0.043649   0.052219        0.070708   \n",
       "max              1.000000   1.000000   1.000000        1.000000   \n",
       "\n",
       "       HistoryOfCancerInFamily  NumberOfMajorSurgeries  PremiumPrice  \n",
       "count                11.000000               11.000000     11.000000  \n",
       "mean                  0.125345                0.220560      0.269675  \n",
       "std                   0.299900                0.292394      0.307413  \n",
       "min                  -0.055527               -0.006108      0.012103  \n",
       "25%                  -0.008345                0.026062      0.079674  \n",
       "50%                   0.010549                0.122722      0.167097  \n",
       "75%                   0.099261                0.257909      0.276653  \n",
       "max                   1.000000                1.000000      1.000000  "
      ]
     },
     "execution_count": 10,
     "metadata": {},
     "output_type": "execute_result"
    }
   ],
   "source": [
    "df.corr().describe()"
   ]
  },
  {
   "cell_type": "code",
   "execution_count": 11,
   "metadata": {},
   "outputs": [
    {
     "data": {
      "text/plain": [
       "Age                           41.745436\n",
       "Diabetes                       0.419878\n",
       "BloodPressureProblems          0.468560\n",
       "AnyTransplants                 0.055781\n",
       "AnyChronicDiseases             0.180527\n",
       "Height                       168.182556\n",
       "Weight                        76.950304\n",
       "KnownAllergies                 0.215010\n",
       "HistoryOfCancerInFamily        0.117647\n",
       "NumberOfMajorSurgeries         0.667343\n",
       "PremiumPrice               24336.713996\n",
       "dtype: float64"
      ]
     },
     "execution_count": 11,
     "metadata": {},
     "output_type": "execute_result"
    }
   ],
   "source": [
    "df.mean()"
   ]
  },
  {
   "cell_type": "code",
   "execution_count": 12,
   "metadata": {},
   "outputs": [
    {
     "data": {
      "text/plain": [
       "Age                           66\n",
       "Diabetes                       1\n",
       "BloodPressureProblems          1\n",
       "AnyTransplants                 1\n",
       "AnyChronicDiseases             1\n",
       "Height                       188\n",
       "Weight                       132\n",
       "KnownAllergies                 1\n",
       "HistoryOfCancerInFamily        1\n",
       "NumberOfMajorSurgeries         3\n",
       "PremiumPrice               40000\n",
       "dtype: int64"
      ]
     },
     "execution_count": 12,
     "metadata": {},
     "output_type": "execute_result"
    }
   ],
   "source": [
    "df.max()"
   ]
  },
  {
   "cell_type": "code",
   "execution_count": 13,
   "metadata": {},
   "outputs": [
    {
     "data": {
      "text/plain": [
       "Age                           18\n",
       "Diabetes                       0\n",
       "BloodPressureProblems          0\n",
       "AnyTransplants                 0\n",
       "AnyChronicDiseases             0\n",
       "Height                       145\n",
       "Weight                        51\n",
       "KnownAllergies                 0\n",
       "HistoryOfCancerInFamily        0\n",
       "NumberOfMajorSurgeries         0\n",
       "PremiumPrice               15000\n",
       "dtype: int64"
      ]
     },
     "execution_count": 13,
     "metadata": {},
     "output_type": "execute_result"
    }
   ],
   "source": [
    "df.min()"
   ]
  },
  {
   "cell_type": "code",
   "execution_count": 14,
   "metadata": {},
   "outputs": [
    {
     "data": {
      "text/html": [
       "<div>\n",
       "<style scoped>\n",
       "    .dataframe tbody tr th:only-of-type {\n",
       "        vertical-align: middle;\n",
       "    }\n",
       "\n",
       "    .dataframe tbody tr th {\n",
       "        vertical-align: top;\n",
       "    }\n",
       "\n",
       "    .dataframe thead th {\n",
       "        text-align: right;\n",
       "    }\n",
       "</style>\n",
       "<table border=\"1\" class=\"dataframe\">\n",
       "  <thead>\n",
       "    <tr style=\"text-align: right;\">\n",
       "      <th></th>\n",
       "      <th>Age</th>\n",
       "      <th>Diabetes</th>\n",
       "      <th>BloodPressureProblems</th>\n",
       "      <th>AnyTransplants</th>\n",
       "      <th>AnyChronicDiseases</th>\n",
       "      <th>Height</th>\n",
       "      <th>Weight</th>\n",
       "      <th>KnownAllergies</th>\n",
       "      <th>HistoryOfCancerInFamily</th>\n",
       "      <th>NumberOfMajorSurgeries</th>\n",
       "      <th>PremiumPrice</th>\n",
       "    </tr>\n",
       "  </thead>\n",
       "  <tbody>\n",
       "    <tr>\n",
       "      <th>0</th>\n",
       "      <td>45</td>\n",
       "      <td>0</td>\n",
       "      <td>0</td>\n",
       "      <td>0</td>\n",
       "      <td>0</td>\n",
       "      <td>155</td>\n",
       "      <td>57</td>\n",
       "      <td>0</td>\n",
       "      <td>0</td>\n",
       "      <td>0</td>\n",
       "      <td>25000</td>\n",
       "    </tr>\n",
       "    <tr>\n",
       "      <th>1</th>\n",
       "      <td>60</td>\n",
       "      <td>1</td>\n",
       "      <td>0</td>\n",
       "      <td>0</td>\n",
       "      <td>0</td>\n",
       "      <td>180</td>\n",
       "      <td>73</td>\n",
       "      <td>0</td>\n",
       "      <td>0</td>\n",
       "      <td>0</td>\n",
       "      <td>29000</td>\n",
       "    </tr>\n",
       "    <tr>\n",
       "      <th>2</th>\n",
       "      <td>36</td>\n",
       "      <td>1</td>\n",
       "      <td>1</td>\n",
       "      <td>0</td>\n",
       "      <td>0</td>\n",
       "      <td>158</td>\n",
       "      <td>59</td>\n",
       "      <td>0</td>\n",
       "      <td>0</td>\n",
       "      <td>1</td>\n",
       "      <td>23000</td>\n",
       "    </tr>\n",
       "    <tr>\n",
       "      <th>3</th>\n",
       "      <td>52</td>\n",
       "      <td>1</td>\n",
       "      <td>1</td>\n",
       "      <td>0</td>\n",
       "      <td>1</td>\n",
       "      <td>183</td>\n",
       "      <td>93</td>\n",
       "      <td>0</td>\n",
       "      <td>0</td>\n",
       "      <td>2</td>\n",
       "      <td>28000</td>\n",
       "    </tr>\n",
       "    <tr>\n",
       "      <th>4</th>\n",
       "      <td>38</td>\n",
       "      <td>0</td>\n",
       "      <td>0</td>\n",
       "      <td>0</td>\n",
       "      <td>1</td>\n",
       "      <td>166</td>\n",
       "      <td>88</td>\n",
       "      <td>0</td>\n",
       "      <td>0</td>\n",
       "      <td>1</td>\n",
       "      <td>23000</td>\n",
       "    </tr>\n",
       "  </tbody>\n",
       "</table>\n",
       "</div>"
      ],
      "text/plain": [
       "   Age  Diabetes  BloodPressureProblems  AnyTransplants  AnyChronicDiseases  \\\n",
       "0   45         0                      0               0                   0   \n",
       "1   60         1                      0               0                   0   \n",
       "2   36         1                      1               0                   0   \n",
       "3   52         1                      1               0                   1   \n",
       "4   38         0                      0               0                   1   \n",
       "\n",
       "   Height  Weight  KnownAllergies  HistoryOfCancerInFamily  \\\n",
       "0     155      57               0                        0   \n",
       "1     180      73               0                        0   \n",
       "2     158      59               0                        0   \n",
       "3     183      93               0                        0   \n",
       "4     166      88               0                        0   \n",
       "\n",
       "   NumberOfMajorSurgeries  PremiumPrice  \n",
       "0                       0         25000  \n",
       "1                       0         29000  \n",
       "2                       1         23000  \n",
       "3                       2         28000  \n",
       "4                       1         23000  "
      ]
     },
     "execution_count": 14,
     "metadata": {},
     "output_type": "execute_result"
    }
   ],
   "source": [
    "df.head()"
   ]
  },
  {
   "cell_type": "code",
   "execution_count": 15,
   "metadata": {},
   "outputs": [],
   "source": [
    "x=df.drop(['PremiumPrice'],axis='columns')"
   ]
  },
  {
   "cell_type": "code",
   "execution_count": 16,
   "metadata": {},
   "outputs": [],
   "source": [
    "y=df.PremiumPrice.values"
   ]
  },
  {
   "cell_type": "code",
   "execution_count": 17,
   "metadata": {},
   "outputs": [],
   "source": [
    "xtrain,xtest,ytrain,ytest=train_test_split(x,y,test_size=0.3)"
   ]
  },
  {
   "cell_type": "code",
   "execution_count": 18,
   "metadata": {},
   "outputs": [
    {
     "data": {
      "text/plain": [
       "87.5"
      ]
     },
     "execution_count": 18,
     "metadata": {},
     "output_type": "execute_result"
    }
   ],
   "source": [
    "tre=DecisionTreeClassifier()\n",
    "tre.fit(xtrain,ytrain)\n",
    "pred_tre=tre.predict(xtest)\n",
    "accu_tre=accuracy_score(ytest , pred_tre)*100\n",
    "accu_tre"
   ]
  },
  {
   "cell_type": "code",
   "execution_count": 19,
   "metadata": {
    "scrolled": true
   },
   "outputs": [
    {
     "name": "stdout",
     "output_type": "stream",
     "text": [
      "              precision    recall  f1-score   support\n",
      "\n",
      "       15000       0.88      0.93      0.91        46\n",
      "       16000       0.00      0.00      0.00         1\n",
      "       17000       0.00      0.00      0.00         1\n",
      "       18000       0.00      0.00      0.00         1\n",
      "       19000       1.00      0.78      0.88         9\n",
      "       21000       1.00      1.00      1.00         3\n",
      "       23000       0.91      0.99      0.95        72\n",
      "       24000       0.00      0.00      0.00         2\n",
      "       25000       0.96      0.90      0.93        30\n",
      "       26000       0.00      0.00      0.00         3\n",
      "       28000       0.95      1.00      0.98        40\n",
      "       29000       0.97      0.94      0.95        31\n",
      "       30000       0.78      0.64      0.70        22\n",
      "       31000       0.77      1.00      0.87        10\n",
      "       32000       0.00      0.00      0.00         3\n",
      "       34000       0.00      0.00      0.00         1\n",
      "       35000       0.67      0.71      0.69        14\n",
      "       36000       0.00      0.00      0.00         1\n",
      "       38000       0.83      1.00      0.91         5\n",
      "       39000       0.00      0.00      0.00         1\n",
      "\n",
      "    accuracy                           0.88       296\n",
      "   macro avg       0.49      0.49      0.49       296\n",
      "weighted avg       0.86      0.88      0.86       296\n",
      "\n"
     ]
    },
    {
     "name": "stderr",
     "output_type": "stream",
     "text": [
      "C:\\Users\\Md Asif Ikbal\\Machine Learning 3\\lib\\site-packages\\sklearn\\metrics\\_classification.py:1272: UndefinedMetricWarning: Precision and F-score are ill-defined and being set to 0.0 in labels with no predicted samples. Use `zero_division` parameter to control this behavior.\n",
      "  _warn_prf(average, modifier, msg_start, len(result))\n"
     ]
    }
   ],
   "source": [
    "print(classification_report(ytest,pred_tre))"
   ]
  },
  {
   "cell_type": "code",
   "execution_count": 22,
   "metadata": {},
   "outputs": [
    {
     "name": "stderr",
     "output_type": "stream",
     "text": [
      "C:\\Users\\Md Asif Ikbal\\Machine Learning 3\\lib\\site-packages\\sklearn\\linear_model\\_logistic.py:940: ConvergenceWarning: lbfgs failed to converge (status=1):\n",
      "STOP: TOTAL NO. of ITERATIONS REACHED LIMIT.\n",
      "\n",
      "Increase the number of iterations (max_iter) or scale the data as shown in:\n",
      "    https://scikit-learn.org/stable/modules/preprocessing.html\n",
      "Please also refer to the documentation for alternative solver options:\n",
      "    https://scikit-learn.org/stable/modules/linear_model.html#logistic-regression\n",
      "  extra_warning_msg=_LOGISTIC_SOLVER_CONVERGENCE_MSG)\n"
     ]
    },
    {
     "data": {
      "text/plain": [
       "61.14864864864865"
      ]
     },
     "execution_count": 22,
     "metadata": {},
     "output_type": "execute_result"
    }
   ],
   "source": [
    "lo=LogisticRegression()\n",
    "lo.fit(xtrain,ytrain)\n",
    "pred_lo=lo.predict(xtest)\n",
    "accu_lo=accuracy_score(ytest,pred_lo)*100\n",
    "accu_lo"
   ]
  },
  {
   "cell_type": "code",
   "execution_count": 25,
   "metadata": {
    "collapsed": true
   },
   "outputs": [
    {
     "name": "stdout",
     "output_type": "stream",
     "text": [
      "              precision    recall  f1-score   support\n",
      "\n",
      "       15000       0.71      0.98      0.83        46\n",
      "       16000       0.00      0.00      0.00         1\n",
      "       17000       0.00      0.00      0.00         1\n",
      "       18000       0.00      0.00      0.00         1\n",
      "       19000       0.00      0.00      0.00         9\n",
      "       21000       0.00      0.00      0.00         3\n",
      "       23000       0.59      0.92      0.72        72\n",
      "       24000       0.00      0.00      0.00         2\n",
      "       25000       0.66      0.77      0.71        30\n",
      "       26000       0.00      0.00      0.00         3\n",
      "       28000       0.51      0.85      0.64        40\n",
      "       29000       0.83      0.16      0.27        31\n",
      "       30000       0.00      0.00      0.00        22\n",
      "       31000       0.00      0.00      0.00        10\n",
      "       32000       0.00      0.00      0.00         3\n",
      "       34000       0.00      0.00      0.00         1\n",
      "       35000       0.73      0.57      0.64        14\n",
      "       36000       0.00      0.00      0.00         1\n",
      "       38000       0.00      0.00      0.00         5\n",
      "       39000       0.00      0.00      0.00         1\n",
      "\n",
      "    accuracy                           0.61       296\n",
      "   macro avg       0.20      0.21      0.19       296\n",
      "weighted avg       0.51      0.61      0.52       296\n",
      "\n"
     ]
    },
    {
     "name": "stderr",
     "output_type": "stream",
     "text": [
      "C:\\Users\\Md Asif Ikbal\\Machine Learning 3\\lib\\site-packages\\sklearn\\metrics\\_classification.py:1272: UndefinedMetricWarning: Precision and F-score are ill-defined and being set to 0.0 in labels with no predicted samples. Use `zero_division` parameter to control this behavior.\n",
      "  _warn_prf(average, modifier, msg_start, len(result))\n"
     ]
    }
   ],
   "source": [
    "print(classification_report(ytest,pred_lo))"
   ]
  },
  {
   "cell_type": "code",
   "execution_count": 26,
   "metadata": {},
   "outputs": [],
   "source": [
    "from sklearn.neighbors import KNeighborsClassifier"
   ]
  },
  {
   "cell_type": "code",
   "execution_count": 27,
   "metadata": {},
   "outputs": [
    {
     "data": {
      "text/plain": [
       "87.5"
      ]
     },
     "execution_count": 27,
     "metadata": {},
     "output_type": "execute_result"
    }
   ],
   "source": [
    "kne=KNeighborsClassifier()\n",
    "kne.fit(xtrain,ytrain)\n",
    "pred_kne=kne.predict(xtest)\n",
    "accu_kne=accuracy_score(ytest , pred_tre)*100\n",
    "accu_kne"
   ]
  },
  {
   "cell_type": "code",
   "execution_count": 28,
   "metadata": {
    "collapsed": true
   },
   "outputs": [
    {
     "name": "stdout",
     "output_type": "stream",
     "text": [
      "              precision    recall  f1-score   support\n",
      "\n",
      "       15000       0.65      0.98      0.78        46\n",
      "       16000       0.00      0.00      0.00         1\n",
      "       17000       0.00      0.00      0.00         1\n",
      "       18000       0.00      0.00      0.00         1\n",
      "       19000       0.00      0.00      0.00         9\n",
      "       21000       0.20      0.33      0.25         3\n",
      "       23000       0.60      0.81      0.69        72\n",
      "       24000       0.00      0.00      0.00         2\n",
      "       25000       0.53      0.67      0.59        30\n",
      "       26000       0.00      0.00      0.00         3\n",
      "       28000       0.38      0.53      0.44        40\n",
      "       29000       0.53      0.32      0.40        31\n",
      "       30000       0.00      0.00      0.00        22\n",
      "       31000       0.00      0.00      0.00        10\n",
      "       32000       0.00      0.00      0.00         3\n",
      "       34000       0.00      0.00      0.00         1\n",
      "       35000       0.67      0.43      0.52        14\n",
      "       36000       0.00      0.00      0.00         1\n",
      "       38000       0.00      0.00      0.00         5\n",
      "       39000       0.00      0.00      0.00         1\n",
      "\n",
      "    accuracy                           0.54       296\n",
      "   macro avg       0.18      0.20      0.18       296\n",
      "weighted avg       0.44      0.54      0.48       296\n",
      "\n"
     ]
    },
    {
     "name": "stderr",
     "output_type": "stream",
     "text": [
      "C:\\Users\\Md Asif Ikbal\\Machine Learning 3\\lib\\site-packages\\sklearn\\metrics\\_classification.py:1272: UndefinedMetricWarning: Precision and F-score are ill-defined and being set to 0.0 in labels with no predicted samples. Use `zero_division` parameter to control this behavior.\n",
      "  _warn_prf(average, modifier, msg_start, len(result))\n"
     ]
    }
   ],
   "source": [
    "print(classification_report(ytest,pred_kne))"
   ]
  },
  {
   "cell_type": "code",
   "execution_count": 29,
   "metadata": {},
   "outputs": [],
   "source": [
    "from sklearn.ensemble import AdaBoostClassifier"
   ]
  },
  {
   "cell_type": "code",
   "execution_count": 30,
   "metadata": {},
   "outputs": [
    {
     "data": {
      "text/plain": [
       "37.83783783783784"
      ]
     },
     "execution_count": 30,
     "metadata": {},
     "output_type": "execute_result"
    }
   ],
   "source": [
    "ada=AdaBoostClassifier()\n",
    "ada.fit(xtrain,ytrain)\n",
    "pred_ada=ada.predict(xtest)\n",
    "accu_ada=accuracy_score(ytest , pred_ada)*100\n",
    "accu_ada"
   ]
  },
  {
   "cell_type": "code",
   "execution_count": 31,
   "metadata": {
    "collapsed": true
   },
   "outputs": [
    {
     "name": "stdout",
     "output_type": "stream",
     "text": [
      "              precision    recall  f1-score   support\n",
      "\n",
      "       15000       0.00      0.00      0.00        46\n",
      "       16000       0.00      0.00      0.00         1\n",
      "       17000       0.00      0.00      0.00         1\n",
      "       18000       0.00      0.00      0.00         1\n",
      "       19000       0.00      0.00      0.00         9\n",
      "       21000       0.00      0.00      0.00         3\n",
      "       23000       0.37      1.00      0.54        72\n",
      "       24000       0.00      0.00      0.00         2\n",
      "       25000       0.00      0.00      0.00        30\n",
      "       26000       0.00      0.00      0.00         3\n",
      "       28000       0.95      1.00      0.98        40\n",
      "       29000       0.00      0.00      0.00        31\n",
      "       30000       0.00      0.00      0.00        22\n",
      "       31000       0.00      0.00      0.00        10\n",
      "       32000       0.00      0.00      0.00         3\n",
      "       34000       0.00      0.00      0.00         1\n",
      "       35000       0.00      0.00      0.00        14\n",
      "       36000       0.00      0.00      0.00         1\n",
      "       38000       0.00      0.00      0.00         5\n",
      "       39000       0.00      0.00      0.00         1\n",
      "\n",
      "    accuracy                           0.38       296\n",
      "   macro avg       0.07      0.10      0.08       296\n",
      "weighted avg       0.22      0.38      0.26       296\n",
      "\n"
     ]
    },
    {
     "name": "stderr",
     "output_type": "stream",
     "text": [
      "C:\\Users\\Md Asif Ikbal\\Machine Learning 3\\lib\\site-packages\\sklearn\\metrics\\_classification.py:1272: UndefinedMetricWarning: Precision and F-score are ill-defined and being set to 0.0 in labels with no predicted samples. Use `zero_division` parameter to control this behavior.\n",
      "  _warn_prf(average, modifier, msg_start, len(result))\n"
     ]
    }
   ],
   "source": [
    "print(classification_report(ytest,pred_ada))"
   ]
  },
  {
   "cell_type": "code",
   "execution_count": 32,
   "metadata": {},
   "outputs": [],
   "source": [
    "from sklearn.ensemble import BaggingClassifier"
   ]
  },
  {
   "cell_type": "code",
   "execution_count": 33,
   "metadata": {},
   "outputs": [
    {
     "data": {
      "text/plain": [
       "91.21621621621621"
      ]
     },
     "execution_count": 33,
     "metadata": {},
     "output_type": "execute_result"
    }
   ],
   "source": [
    "bag=BaggingClassifier()\n",
    "bag.fit(xtrain,ytrain)\n",
    "pred_bag=bag.predict(xtest)\n",
    "accu_bag=accuracy_score(ytest , pred_bag)*100\n",
    "accu_bag"
   ]
  },
  {
   "cell_type": "code",
   "execution_count": 34,
   "metadata": {
    "collapsed": true
   },
   "outputs": [
    {
     "name": "stdout",
     "output_type": "stream",
     "text": [
      "              precision    recall  f1-score   support\n",
      "\n",
      "       15000       0.88      0.98      0.93        46\n",
      "       16000       0.00      0.00      0.00         1\n",
      "       17000       0.00      0.00      0.00         1\n",
      "       18000       0.00      0.00      0.00         1\n",
      "       19000       1.00      0.89      0.94         9\n",
      "       21000       1.00      1.00      1.00         3\n",
      "       22000       0.00      0.00      0.00         0\n",
      "       23000       0.91      1.00      0.95        72\n",
      "       24000       0.00      0.00      0.00         2\n",
      "       25000       0.93      0.90      0.92        30\n",
      "       26000       0.00      0.00      0.00         3\n",
      "       28000       0.95      1.00      0.98        40\n",
      "       29000       0.94      1.00      0.97        31\n",
      "       30000       0.95      0.95      0.95        22\n",
      "       31000       1.00      0.80      0.89        10\n",
      "       32000       0.00      0.00      0.00         3\n",
      "       34000       0.00      0.00      0.00         1\n",
      "       35000       0.91      0.71      0.80        14\n",
      "       36000       0.00      0.00      0.00         1\n",
      "       38000       0.71      1.00      0.83         5\n",
      "       39000       0.00      0.00      0.00         1\n",
      "\n",
      "    accuracy                           0.91       296\n",
      "   macro avg       0.49      0.49      0.48       296\n",
      "weighted avg       0.88      0.91      0.89       296\n",
      "\n"
     ]
    },
    {
     "name": "stderr",
     "output_type": "stream",
     "text": [
      "C:\\Users\\Md Asif Ikbal\\Machine Learning 3\\lib\\site-packages\\sklearn\\metrics\\_classification.py:1272: UndefinedMetricWarning: Precision and F-score are ill-defined and being set to 0.0 in labels with no predicted samples. Use `zero_division` parameter to control this behavior.\n",
      "  _warn_prf(average, modifier, msg_start, len(result))\n",
      "C:\\Users\\Md Asif Ikbal\\Machine Learning 3\\lib\\site-packages\\sklearn\\metrics\\_classification.py:1272: UndefinedMetricWarning: Recall and F-score are ill-defined and being set to 0.0 in labels with no true samples. Use `zero_division` parameter to control this behavior.\n",
      "  _warn_prf(average, modifier, msg_start, len(result))\n"
     ]
    }
   ],
   "source": [
    "print(classification_report(ytest,pred_bag))"
   ]
  },
  {
   "cell_type": "code",
   "execution_count": 35,
   "metadata": {},
   "outputs": [],
   "source": [
    "from sklearn.svm import SVC"
   ]
  },
  {
   "cell_type": "code",
   "execution_count": 36,
   "metadata": {},
   "outputs": [
    {
     "data": {
      "text/plain": [
       "50.33783783783784"
      ]
     },
     "execution_count": 36,
     "metadata": {},
     "output_type": "execute_result"
    }
   ],
   "source": [
    "svc=SVC()\n",
    "svc.fit(xtrain,ytrain)\n",
    "pre_siv=svc.predict(xtest)\n",
    "accu_l=accuracy_score(ytest,pre_siv)*100\n",
    "accu_l"
   ]
  },
  {
   "cell_type": "code",
   "execution_count": 37,
   "metadata": {
    "collapsed": true
   },
   "outputs": [
    {
     "name": "stdout",
     "output_type": "stream",
     "text": [
      "              precision    recall  f1-score   support\n",
      "\n",
      "       15000       0.64      1.00      0.78        46\n",
      "       16000       0.00      0.00      0.00         1\n",
      "       17000       0.00      0.00      0.00         1\n",
      "       18000       0.00      0.00      0.00         1\n",
      "       19000       0.00      0.00      0.00         9\n",
      "       21000       0.00      0.00      0.00         3\n",
      "       23000       0.47      0.89      0.62        72\n",
      "       24000       0.00      0.00      0.00         2\n",
      "       25000       0.47      0.23      0.31        30\n",
      "       26000       0.00      0.00      0.00         3\n",
      "       28000       0.43      0.80      0.56        40\n",
      "       29000       0.00      0.00      0.00        31\n",
      "       30000       0.00      0.00      0.00        22\n",
      "       31000       0.00      0.00      0.00        10\n",
      "       32000       0.00      0.00      0.00         3\n",
      "       34000       0.00      0.00      0.00         1\n",
      "       35000       0.00      0.00      0.00        14\n",
      "       36000       0.00      0.00      0.00         1\n",
      "       38000       0.00      0.00      0.00         5\n",
      "       39000       0.00      0.00      0.00         1\n",
      "\n",
      "    accuracy                           0.50       296\n",
      "   macro avg       0.10      0.15      0.11       296\n",
      "weighted avg       0.32      0.50      0.38       296\n",
      "\n"
     ]
    },
    {
     "name": "stderr",
     "output_type": "stream",
     "text": [
      "C:\\Users\\Md Asif Ikbal\\Machine Learning 3\\lib\\site-packages\\sklearn\\metrics\\_classification.py:1272: UndefinedMetricWarning: Precision and F-score are ill-defined and being set to 0.0 in labels with no predicted samples. Use `zero_division` parameter to control this behavior.\n",
      "  _warn_prf(average, modifier, msg_start, len(result))\n"
     ]
    }
   ],
   "source": [
    "print(classification_report(ytest,pre_siv))"
   ]
  },
  {
   "cell_type": "code",
   "execution_count": 38,
   "metadata": {},
   "outputs": [],
   "source": [
    "from sklearn.naive_bayes import GaussianNB"
   ]
  },
  {
   "cell_type": "code",
   "execution_count": 39,
   "metadata": {},
   "outputs": [
    {
     "data": {
      "text/plain": [
       "35.810810810810814"
      ]
     },
     "execution_count": 39,
     "metadata": {},
     "output_type": "execute_result"
    }
   ],
   "source": [
    "gau=GaussianNB()\n",
    "gau.fit(xtrain,ytrain)\n",
    "pre_gau=gau.predict(xtest)\n",
    "accu_l=accuracy_score(ytest,pre_gau)*100\n",
    "accu_l"
   ]
  },
  {
   "cell_type": "code",
   "execution_count": 40,
   "metadata": {
    "collapsed": true
   },
   "outputs": [
    {
     "name": "stdout",
     "output_type": "stream",
     "text": [
      "              precision    recall  f1-score   support\n",
      "\n",
      "       15000       1.00      0.02      0.04        46\n",
      "       16000       0.00      0.00      0.00         1\n",
      "       17000       0.00      0.00      0.00         1\n",
      "       18000       0.00      0.00      0.00         1\n",
      "       19000       0.50      0.67      0.57         9\n",
      "       21000       0.00      0.00      0.00         3\n",
      "       23000       0.86      0.50      0.63        72\n",
      "       24000       0.00      0.00      0.00         2\n",
      "       25000       0.00      0.00      0.00        30\n",
      "       26000       0.00      0.00      0.00         3\n",
      "       28000       0.00      0.00      0.00        40\n",
      "       29000       0.30      1.00      0.47        31\n",
      "       30000       0.44      0.82      0.57        22\n",
      "       31000       0.36      0.90      0.51        10\n",
      "       32000       0.00      0.00      0.00         3\n",
      "       34000       0.00      0.00      0.00         1\n",
      "       35000       0.00      0.00      0.00        14\n",
      "       36000       0.00      0.00      0.00         1\n",
      "       38000       0.50      1.00      0.67         5\n",
      "       39000       0.00      0.00      0.00         1\n",
      "\n",
      "    accuracy                           0.36       296\n",
      "   macro avg       0.20      0.25      0.17       296\n",
      "weighted avg       0.46      0.36      0.30       296\n",
      "\n"
     ]
    },
    {
     "name": "stderr",
     "output_type": "stream",
     "text": [
      "C:\\Users\\Md Asif Ikbal\\Machine Learning 3\\lib\\site-packages\\sklearn\\metrics\\_classification.py:1272: UndefinedMetricWarning: Precision and F-score are ill-defined and being set to 0.0 in labels with no predicted samples. Use `zero_division` parameter to control this behavior.\n",
      "  _warn_prf(average, modifier, msg_start, len(result))\n"
     ]
    }
   ],
   "source": [
    "print(classification_report(ytest,pre_gau))"
   ]
  },
  {
   "cell_type": "code",
   "execution_count": 41,
   "metadata": {},
   "outputs": [],
   "source": [
    "from sklearn.ensemble import AdaBoostClassifier"
   ]
  },
  {
   "cell_type": "code",
   "execution_count": 42,
   "metadata": {},
   "outputs": [
    {
     "data": {
      "text/plain": [
       "37.83783783783784"
      ]
     },
     "execution_count": 42,
     "metadata": {},
     "output_type": "execute_result"
    }
   ],
   "source": [
    "ada=AdaBoostClassifier()\n",
    "#rdf=RandomForestClassifier()\n",
    "ada.fit(xtrain,ytrain)\n",
    "pre_ada=ada.predict(xtest)\n",
    "accu_ada=accuracy_score(ytest,pre_ada)*100\n",
    "accu_ada"
   ]
  },
  {
   "cell_type": "code",
   "execution_count": 43,
   "metadata": {},
   "outputs": [
    {
     "name": "stdout",
     "output_type": "stream",
     "text": [
      "              precision    recall  f1-score   support\n",
      "\n",
      "       15000       0.00      0.00      0.00        46\n",
      "       16000       0.00      0.00      0.00         1\n",
      "       17000       0.00      0.00      0.00         1\n",
      "       18000       0.00      0.00      0.00         1\n",
      "       19000       0.00      0.00      0.00         9\n",
      "       21000       0.00      0.00      0.00         3\n",
      "       23000       0.37      1.00      0.54        72\n",
      "       24000       0.00      0.00      0.00         2\n",
      "       25000       0.00      0.00      0.00        30\n",
      "       26000       0.00      0.00      0.00         3\n",
      "       28000       0.95      1.00      0.98        40\n",
      "       29000       0.00      0.00      0.00        31\n",
      "       30000       0.00      0.00      0.00        22\n",
      "       31000       0.00      0.00      0.00        10\n",
      "       32000       0.00      0.00      0.00         3\n",
      "       34000       0.00      0.00      0.00         1\n",
      "       35000       0.00      0.00      0.00        14\n",
      "       36000       0.00      0.00      0.00         1\n",
      "       38000       0.00      0.00      0.00         5\n",
      "       39000       0.00      0.00      0.00         1\n",
      "\n",
      "    accuracy                           0.38       296\n",
      "   macro avg       0.07      0.10      0.08       296\n",
      "weighted avg       0.22      0.38      0.26       296\n",
      "\n"
     ]
    },
    {
     "name": "stderr",
     "output_type": "stream",
     "text": [
      "C:\\Users\\Md Asif Ikbal\\Machine Learning 3\\lib\\site-packages\\sklearn\\metrics\\_classification.py:1272: UndefinedMetricWarning: Precision and F-score are ill-defined and being set to 0.0 in labels with no predicted samples. Use `zero_division` parameter to control this behavior.\n",
      "  _warn_prf(average, modifier, msg_start, len(result))\n"
     ]
    }
   ],
   "source": [
    "print(classification_report(ytest,pre_ada))"
   ]
  },
  {
   "cell_type": "code",
   "execution_count": 44,
   "metadata": {},
   "outputs": [],
   "source": [
    "from sklearn.ensemble import GradientBoostingClassifier"
   ]
  },
  {
   "cell_type": "code",
   "execution_count": 45,
   "metadata": {},
   "outputs": [
    {
     "data": {
      "text/plain": [
       "37.83783783783784"
      ]
     },
     "execution_count": 45,
     "metadata": {},
     "output_type": "execute_result"
    }
   ],
   "source": [
    "grd=GradientBoostingClassifier()\n",
    "grd.fit(xtrain,ytrain)\n",
    "pre_grd=grd.predict(xtest)\n",
    "accu_grd=accuracy_score(ytest,pre_ada)*100\n",
    "accu_grd"
   ]
  },
  {
   "cell_type": "code",
   "execution_count": 46,
   "metadata": {
    "collapsed": true
   },
   "outputs": [
    {
     "name": "stdout",
     "output_type": "stream",
     "text": [
      "              precision    recall  f1-score   support\n",
      "\n",
      "       15000       0.86      0.93      0.90        46\n",
      "       16000       0.00      0.00      0.00         1\n",
      "       17000       0.00      0.00      0.00         1\n",
      "       18000       0.00      0.00      0.00         1\n",
      "       19000       1.00      0.33      0.50         9\n",
      "       21000       0.19      1.00      0.32         3\n",
      "       23000       0.94      0.94      0.94        72\n",
      "       24000       0.00      0.00      0.00         2\n",
      "       25000       0.91      0.97      0.94        30\n",
      "       26000       0.00      0.00      0.00         3\n",
      "       28000       0.97      0.97      0.97        40\n",
      "       29000       0.97      1.00      0.98        31\n",
      "       30000       0.95      0.86      0.90        22\n",
      "       31000       1.00      0.70      0.82        10\n",
      "       32000       0.00      0.00      0.00         3\n",
      "       34000       0.00      0.00      0.00         1\n",
      "       35000       0.91      0.71      0.80        14\n",
      "       36000       0.00      0.00      0.00         1\n",
      "       38000       0.67      0.80      0.73         5\n",
      "       39000       0.00      0.00      0.00         1\n",
      "\n",
      "    accuracy                           0.86       296\n",
      "   macro avg       0.47      0.46      0.44       296\n",
      "weighted avg       0.88      0.86      0.86       296\n",
      "\n"
     ]
    },
    {
     "name": "stderr",
     "output_type": "stream",
     "text": [
      "C:\\Users\\Md Asif Ikbal\\Machine Learning 3\\lib\\site-packages\\sklearn\\metrics\\_classification.py:1272: UndefinedMetricWarning: Precision and F-score are ill-defined and being set to 0.0 in labels with no predicted samples. Use `zero_division` parameter to control this behavior.\n",
      "  _warn_prf(average, modifier, msg_start, len(result))\n"
     ]
    }
   ],
   "source": [
    "print(classification_report(ytest,pre_grd))"
   ]
  },
  {
   "cell_type": "code",
   "execution_count": 47,
   "metadata": {},
   "outputs": [],
   "source": [
    "from sklearn.ensemble import ExtraTreesClassifier"
   ]
  },
  {
   "cell_type": "code",
   "execution_count": 49,
   "metadata": {},
   "outputs": [
    {
     "data": {
      "text/plain": [
       "77.7027027027027"
      ]
     },
     "execution_count": 49,
     "metadata": {},
     "output_type": "execute_result"
    }
   ],
   "source": [
    "etc=ExtraTreesClassifier()\n",
    "etc.fit(xtrain,ytrain)\n",
    "pre_etc=etc.predict(xtest)\n",
    "accu_etc=accuracy_score(ytest,pre_etc)*100\n",
    "accu_etc"
   ]
  },
  {
   "cell_type": "code",
   "execution_count": 50,
   "metadata": {
    "collapsed": true
   },
   "outputs": [
    {
     "name": "stdout",
     "output_type": "stream",
     "text": [
      "              precision    recall  f1-score   support\n",
      "\n",
      "       15000       0.86      0.93      0.90        46\n",
      "       16000       0.00      0.00      0.00         1\n",
      "       17000       0.00      0.00      0.00         1\n",
      "       18000       0.00      0.00      0.00         1\n",
      "       19000       1.00      0.33      0.50         9\n",
      "       21000       0.19      1.00      0.32         3\n",
      "       23000       0.94      0.94      0.94        72\n",
      "       24000       0.00      0.00      0.00         2\n",
      "       25000       0.91      0.97      0.94        30\n",
      "       26000       0.00      0.00      0.00         3\n",
      "       28000       0.97      0.97      0.97        40\n",
      "       29000       0.97      1.00      0.98        31\n",
      "       30000       0.95      0.86      0.90        22\n",
      "       31000       1.00      0.70      0.82        10\n",
      "       32000       0.00      0.00      0.00         3\n",
      "       34000       0.00      0.00      0.00         1\n",
      "       35000       0.91      0.71      0.80        14\n",
      "       36000       0.00      0.00      0.00         1\n",
      "       38000       0.67      0.80      0.73         5\n",
      "       39000       0.00      0.00      0.00         1\n",
      "\n",
      "    accuracy                           0.86       296\n",
      "   macro avg       0.47      0.46      0.44       296\n",
      "weighted avg       0.88      0.86      0.86       296\n",
      "\n"
     ]
    },
    {
     "name": "stderr",
     "output_type": "stream",
     "text": [
      "C:\\Users\\Md Asif Ikbal\\Machine Learning 3\\lib\\site-packages\\sklearn\\metrics\\_classification.py:1272: UndefinedMetricWarning: Precision and F-score are ill-defined and being set to 0.0 in labels with no predicted samples. Use `zero_division` parameter to control this behavior.\n",
      "  _warn_prf(average, modifier, msg_start, len(result))\n"
     ]
    }
   ],
   "source": [
    "print(classification_report(ytest,pre_grd))"
   ]
  },
  {
   "cell_type": "code",
   "execution_count": 51,
   "metadata": {},
   "outputs": [
    {
     "data": {
      "text/html": [
       "<div>\n",
       "<style scoped>\n",
       "    .dataframe tbody tr th:only-of-type {\n",
       "        vertical-align: middle;\n",
       "    }\n",
       "\n",
       "    .dataframe tbody tr th {\n",
       "        vertical-align: top;\n",
       "    }\n",
       "\n",
       "    .dataframe thead th {\n",
       "        text-align: right;\n",
       "    }\n",
       "</style>\n",
       "<table border=\"1\" class=\"dataframe\">\n",
       "  <thead>\n",
       "    <tr style=\"text-align: right;\">\n",
       "      <th></th>\n",
       "      <th>Model</th>\n",
       "      <th>Score</th>\n",
       "    </tr>\n",
       "  </thead>\n",
       "  <tbody>\n",
       "    <tr>\n",
       "      <th>5</th>\n",
       "      <td>BaggingClassifier</td>\n",
       "      <td>91.216216</td>\n",
       "    </tr>\n",
       "    <tr>\n",
       "      <th>0</th>\n",
       "      <td>DecisionTreeClassifier</td>\n",
       "      <td>87.500000</td>\n",
       "    </tr>\n",
       "    <tr>\n",
       "      <th>3</th>\n",
       "      <td>KNeighborsClassifier</td>\n",
       "      <td>87.500000</td>\n",
       "    </tr>\n",
       "    <tr>\n",
       "      <th>10</th>\n",
       "      <td>ExtraTreesClassifier</td>\n",
       "      <td>77.702703</td>\n",
       "    </tr>\n",
       "    <tr>\n",
       "      <th>2</th>\n",
       "      <td>LinierReg</td>\n",
       "      <td>61.148649</td>\n",
       "    </tr>\n",
       "    <tr>\n",
       "      <th>4</th>\n",
       "      <td>AdaBoostClassifier</td>\n",
       "      <td>37.837838</td>\n",
       "    </tr>\n",
       "    <tr>\n",
       "      <th>8</th>\n",
       "      <td>AdaBoostClassifier</td>\n",
       "      <td>37.837838</td>\n",
       "    </tr>\n",
       "    <tr>\n",
       "      <th>9</th>\n",
       "      <td>GradientBoostingClassifier</td>\n",
       "      <td>37.837838</td>\n",
       "    </tr>\n",
       "    <tr>\n",
       "      <th>1</th>\n",
       "      <td>RandomForestClassifier</td>\n",
       "      <td>35.810811</td>\n",
       "    </tr>\n",
       "    <tr>\n",
       "      <th>6</th>\n",
       "      <td>SVC</td>\n",
       "      <td>35.810811</td>\n",
       "    </tr>\n",
       "    <tr>\n",
       "      <th>7</th>\n",
       "      <td>GaussianNB</td>\n",
       "      <td>35.810811</td>\n",
       "    </tr>\n",
       "  </tbody>\n",
       "</table>\n",
       "</div>"
      ],
      "text/plain": [
       "                         Model      Score\n",
       "5            BaggingClassifier  91.216216\n",
       "0       DecisionTreeClassifier  87.500000\n",
       "3         KNeighborsClassifier  87.500000\n",
       "10        ExtraTreesClassifier  77.702703\n",
       "2                    LinierReg  61.148649\n",
       "4           AdaBoostClassifier  37.837838\n",
       "8           AdaBoostClassifier  37.837838\n",
       "9   GradientBoostingClassifier  37.837838\n",
       "1       RandomForestClassifier  35.810811\n",
       "6                          SVC  35.810811\n",
       "7                   GaussianNB  35.810811"
      ]
     },
     "execution_count": 51,
     "metadata": {},
     "output_type": "execute_result"
    }
   ],
   "source": [
    "models = pd.DataFrame({\n",
    "    'Model': ['DecisionTreeClassifier','RandomForestClassifier','LinierReg',  'KNeighborsClassifier',\n",
    "             'AdaBoostClassifier','BaggingClassifier','SVC','GaussianNB','AdaBoostClassifier','GradientBoostingClassifier','ExtraTreesClassifier'],\n",
    "    'Score': [ accu_tre,accu_l,accu_lo, accu_kne, accu_ada,accu_bag,accu_l,accu_l,accu_ada,accu_grd,accu_etc]\n",
    "})\n",
    "\n",
    "models.sort_values(by = 'Score', ascending = False)"
   ]
  },
  {
   "cell_type": "code",
   "execution_count": 52,
   "metadata": {},
   "outputs": [
    {
     "data": {
      "image/png": "[encoded data removed]",
      "text/plain": [
       "<Figure size 1080x576 with 1 Axes>"
      ]
     },
     "metadata": {},
     "output_type": "display_data"
    }
   ],
   "source": [
    "colors = [\"purple\", \"green\", \"orange\", \"magenta\",\"blue\",\"black\",\"red\"]\n",
    "\n",
    "sns.set_style(\"whitegrid\")\n",
    "plt.figure(figsize=(15,8))\n",
    "plt.ylabel(\"Accuracy %\")\n",
    "plt.xlabel(\"Algorithms\")\n",
    "sns.barplot(x=models['Model'],y=models['Score'], palette=colors )\n",
    "plt.show()"
   ]
  },
  {
   "cell_type": "code",
   "execution_count": 53,
   "metadata": {},
   "outputs": [
    {
     "data": {
      "text/html": [
       "<div>\n",
       "<style scoped>\n",
       "    .dataframe tbody tr th:only-of-type {\n",
       "        vertical-align: middle;\n",
       "    }\n",
       "\n",
       "    .dataframe tbody tr th {\n",
       "        vertical-align: top;\n",
       "    }\n",
       "\n",
       "    .dataframe thead th {\n",
       "        text-align: right;\n",
       "    }\n",
       "</style>\n",
       "<table border=\"1\" class=\"dataframe\">\n",
       "  <thead>\n",
       "    <tr style=\"text-align: right;\">\n",
       "      <th></th>\n",
       "      <th>Age</th>\n",
       "      <th>Diabetes</th>\n",
       "      <th>BloodPressureProblems</th>\n",
       "      <th>AnyTransplants</th>\n",
       "      <th>AnyChronicDiseases</th>\n",
       "      <th>Height</th>\n",
       "      <th>Weight</th>\n",
       "      <th>KnownAllergies</th>\n",
       "      <th>HistoryOfCancerInFamily</th>\n",
       "      <th>NumberOfMajorSurgeries</th>\n",
       "      <th>PremiumPrice</th>\n",
       "    </tr>\n",
       "  </thead>\n",
       "  <tbody>\n",
       "    <tr>\n",
       "      <th>0</th>\n",
       "      <td>45</td>\n",
       "      <td>0</td>\n",
       "      <td>0</td>\n",
       "      <td>0</td>\n",
       "      <td>0</td>\n",
       "      <td>155</td>\n",
       "      <td>57</td>\n",
       "      <td>0</td>\n",
       "      <td>0</td>\n",
       "      <td>0</td>\n",
       "      <td>25000</td>\n",
       "    </tr>\n",
       "    <tr>\n",
       "      <th>1</th>\n",
       "      <td>60</td>\n",
       "      <td>1</td>\n",
       "      <td>0</td>\n",
       "      <td>0</td>\n",
       "      <td>0</td>\n",
       "      <td>180</td>\n",
       "      <td>73</td>\n",
       "      <td>0</td>\n",
       "      <td>0</td>\n",
       "      <td>0</td>\n",
       "      <td>29000</td>\n",
       "    </tr>\n",
       "    <tr>\n",
       "      <th>2</th>\n",
       "      <td>36</td>\n",
       "      <td>1</td>\n",
       "      <td>1</td>\n",
       "      <td>0</td>\n",
       "      <td>0</td>\n",
       "      <td>158</td>\n",
       "      <td>59</td>\n",
       "      <td>0</td>\n",
       "      <td>0</td>\n",
       "      <td>1</td>\n",
       "      <td>23000</td>\n",
       "    </tr>\n",
       "    <tr>\n",
       "      <th>3</th>\n",
       "      <td>52</td>\n",
       "      <td>1</td>\n",
       "      <td>1</td>\n",
       "      <td>0</td>\n",
       "      <td>1</td>\n",
       "      <td>183</td>\n",
       "      <td>93</td>\n",
       "      <td>0</td>\n",
       "      <td>0</td>\n",
       "      <td>2</td>\n",
       "      <td>28000</td>\n",
       "    </tr>\n",
       "    <tr>\n",
       "      <th>4</th>\n",
       "      <td>38</td>\n",
       "      <td>0</td>\n",
       "      <td>0</td>\n",
       "      <td>0</td>\n",
       "      <td>1</td>\n",
       "      <td>166</td>\n",
       "      <td>88</td>\n",
       "      <td>0</td>\n",
       "      <td>0</td>\n",
       "      <td>1</td>\n",
       "      <td>23000</td>\n",
       "    </tr>\n",
       "  </tbody>\n",
       "</table>\n",
       "</div>"
      ],
      "text/plain": [
       "   Age  Diabetes  BloodPressureProblems  AnyTransplants  AnyChronicDiseases  \\\n",
       "0   45         0                      0               0                   0   \n",
       "1   60         1                      0               0                   0   \n",
       "2   36         1                      1               0                   0   \n",
       "3   52         1                      1               0                   1   \n",
       "4   38         0                      0               0                   1   \n",
       "\n",
       "   Height  Weight  KnownAllergies  HistoryOfCancerInFamily  \\\n",
       "0     155      57               0                        0   \n",
       "1     180      73               0                        0   \n",
       "2     158      59               0                        0   \n",
       "3     183      93               0                        0   \n",
       "4     166      88               0                        0   \n",
       "\n",
       "   NumberOfMajorSurgeries  PremiumPrice  \n",
       "0                       0         25000  \n",
       "1                       0         29000  \n",
       "2                       1         23000  \n",
       "3                       2         28000  \n",
       "4                       1         23000  "
      ]
     },
     "execution_count": 53,
     "metadata": {},
     "output_type": "execute_result"
    }
   ],
   "source": [
    "df.head()"
   ]
  },
  {
   "cell_type": "code",
   "execution_count": 55,
   "metadata": {},
   "outputs": [],
   "source": [
    "import sklearn.cluster as cluster\n",
    "from sklearn.cluster import KMeans"
   ]
  },
  {
   "cell_type": "code",
   "execution_count": 56,
   "metadata": {},
   "outputs": [],
   "source": [
    "kmens=cluster.KMeans(n_clusters=3)"
   ]
  },
  {
   "cell_type": "code",
   "execution_count": 57,
   "metadata": {},
   "outputs": [],
   "source": [
    "kmens=kmens.fit(df[['Diabetes','PremiumPrice']])"
   ]
  },
  {
   "cell_type": "code",
   "execution_count": 58,
   "metadata": {},
   "outputs": [
    {
     "data": {
      "text/plain": [
       "array([[4.79784367e-01, 3.06873315e+04],\n",
       "       [4.18367347e-01, 2.34566327e+04],\n",
       "       [3.22869955e-01, 1.53183857e+04]])"
      ]
     },
     "execution_count": 58,
     "metadata": {},
     "output_type": "execute_result"
    }
   ],
   "source": [
    "kmens.cluster_centers_"
   ]
  },
  {
   "cell_type": "code",
   "execution_count": 65,
   "metadata": {},
   "outputs": [],
   "source": [
    "df['Diabetes_PremiumPrice']=kmens.labels_"
   ]
  },
  {
   "cell_type": "code",
   "execution_count": 60,
   "metadata": {},
   "outputs": [],
   "source": [
    "k_range=range(1,15)\n",
    "wcss=[]"
   ]
  },
  {
   "cell_type": "code",
   "execution_count": 63,
   "metadata": {},
   "outputs": [],
   "source": [
    "for k in k_range:\n",
    "    km=KMeans(n_clusters=k)\n",
    "    km.fit(df[['Diabetes','PremiumPrice']])\n",
    "    wcss.append(km.inertia_)"
   ]
  },
  {
   "cell_type": "code",
   "execution_count": 64,
   "metadata": {
    "collapsed": true
   },
   "outputs": [
    {
     "data": {
      "text/plain": [
       "[38454211193.51724,\n",
       " 14372522422.32276,\n",
       " 5051388068.8966465,\n",
       " 1324728254.666325,\n",
       " 910915573.5388739,\n",
       " 633824057.4165041,\n",
       " 415912094.3544712,\n",
       " 154920321.64745182,\n",
       " 107503044.82184666,\n",
       " 61777440.88154319,\n",
       " 36859848.85215931,\n",
       " 29918182.1776495,\n",
       " 23246154.835657492,\n",
       " 17693652.07696142]"
      ]
     },
     "execution_count": 64,
     "metadata": {},
     "output_type": "execute_result"
    }
   ],
   "source": [
    "wcss"
   ]
  },
  {
   "cell_type": "code",
   "execution_count": 66,
   "metadata": {},
   "outputs": [],
   "source": [
    "kmens1=cluster.KMeans(n_clusters=5)"
   ]
  },
  {
   "cell_type": "code",
   "execution_count": 69,
   "metadata": {},
   "outputs": [],
   "source": [
    "kmens1=kmens.fit(df[['AnyTransplants','PremiumPrice']])"
   ]
  },
  {
   "cell_type": "code",
   "execution_count": 70,
   "metadata": {},
   "outputs": [
    {
     "data": {
      "text/plain": [
       "array([[4.93273543e-02, 1.53183857e+04],\n",
       "       [1.13207547e-01, 3.06873315e+04],\n",
       "       [5.10204082e-03, 2.34566327e+04]])"
      ]
     },
     "execution_count": 70,
     "metadata": {},
     "output_type": "execute_result"
    }
   ],
   "source": [
    "kmens1.cluster_centers_"
   ]
  },
  {
   "cell_type": "code",
   "execution_count": 71,
   "metadata": {},
   "outputs": [],
   "source": [
    "df['AnyTransplants_PremiumPrice']=kmens1.labels_"
   ]
  },
  {
   "cell_type": "code",
   "execution_count": 72,
   "metadata": {},
   "outputs": [],
   "source": [
    "k_range1=range(1,15)\n",
    "wcss1=[]"
   ]
  },
  {
   "cell_type": "code",
   "execution_count": 85,
   "metadata": {},
   "outputs": [],
   "source": [
    "for k in k_range1:\n",
    "    km=KMeans(n_clusters=k)\n",
    "    km.fit(df[['AnyTransplants','PremiumPrice']])\n",
    "    wcss1.append(km.inertia_)"
   ]
  },
  {
   "cell_type": "code",
   "execution_count": 87,
   "metadata": {},
   "outputs": [
    {
     "data": {
      "text/plain": [
       "[38454211005.2789,\n",
       " 14315311344.7595,\n",
       " 5051387881.849625,\n",
       " 1324728058.3363018,\n",
       " 910942707.0792681,\n",
       " 633823862.5208714,\n",
       " 368392190.1850579,\n",
       " 154920117.6196984,\n",
       " 107502842.63007802,\n",
       " 61768009.881773464,\n",
       " 36859647.50335401,\n",
       " 29917975.736687344,\n",
       " 23363430.282141887,\n",
       " 17692827.651304808,\n",
       " 38454211005.2789,\n",
       " 14372522233.902605,\n",
       " 5051387881.849625,\n",
       " 1324728058.3363018,\n",
       " 910942707.0792681,\n",
       " 658102445.2788814,\n",
       " 368392190.1850579,\n",
       " 154920117.6196984,\n",
       " 107502842.63007802,\n",
       " 61768009.881773464,\n",
       " 36859647.50335401,\n",
       " 29917975.736687344,\n",
       " 23245330.64272766,\n",
       " 17692827.651304808,\n",
       " 38454211005.2789,\n",
       " 14315311344.7595,\n",
       " 5051387881.849625,\n",
       " 1324728058.3363018,\n",
       " 910915377.7278938,\n",
       " 633823862.5208714,\n",
       " 404452267.11751544,\n",
       " 154920117.6196984,\n",
       " 107502842.63007802,\n",
       " 61768009.881773464,\n",
       " 36859647.50335401,\n",
       " 29927204.739193905,\n",
       " 23245330.64272766,\n",
       " 17820156.2932256]"
      ]
     },
     "execution_count": 87,
     "metadata": {},
     "output_type": "execute_result"
    }
   ],
   "source": [
    "wcss1"
   ]
  },
  {
   "cell_type": "code",
   "execution_count": 88,
   "metadata": {},
   "outputs": [],
   "source": [
    "kmens2=KMeans(n_clusters=5)"
   ]
  },
  {
   "cell_type": "code",
   "execution_count": 89,
   "metadata": {},
   "outputs": [],
   "source": [
    "kmens2=kmens2.fit(df[['HistoryOfCancerInFamily','PremiumPrice']])"
   ]
  },
  {
   "cell_type": "code",
   "execution_count": 90,
   "metadata": {},
   "outputs": [
    {
     "data": {
      "text/plain": [
       "array([[1.77700348e-01, 2.89547038e+04],\n",
       "       [1.25560538e-01, 1.53183857e+04],\n",
       "       [1.80505415e-02, 2.27978339e+04],\n",
       "       [1.29411765e-01, 3.64941176e+04],\n",
       "       [1.84210526e-01, 2.50263158e+04]])"
      ]
     },
     "execution_count": 90,
     "metadata": {},
     "output_type": "execute_result"
    }
   ],
   "source": [
    "kmens2.cluster_centers_"
   ]
  },
  {
   "cell_type": "code",
   "execution_count": 91,
   "metadata": {},
   "outputs": [
    {
     "data": {
      "text/plain": [
       "array([[1.77700348e-01, 2.89547038e+04],\n",
       "       [1.25560538e-01, 1.53183857e+04],\n",
       "       [1.80505415e-02, 2.27978339e+04],\n",
       "       [1.29411765e-01, 3.64941176e+04],\n",
       "       [1.84210526e-01, 2.50263158e+04]])"
      ]
     },
     "execution_count": 91,
     "metadata": {},
     "output_type": "execute_result"
    }
   ],
   "source": [
    "kmens2.cluster_centers_"
   ]
  },
  {
   "cell_type": "code",
   "execution_count": 92,
   "metadata": {},
   "outputs": [],
   "source": [
    "df['HistoryOfCancerInFamily_PremiumPrice']=kmens2.labels_"
   ]
  },
  {
   "cell_type": "code",
   "execution_count": 95,
   "metadata": {},
   "outputs": [],
   "source": [
    "k_range2=range(1,15)\n",
    "wcss2=[]"
   ]
  },
  {
   "cell_type": "code",
   "execution_count": 96,
   "metadata": {},
   "outputs": [],
   "source": [
    "for k in k_range2:\n",
    "    km=KMeans(n_clusters=k)\n",
    "    km.fit(df[['HistoryOfCancerInFamily','PremiumPrice']])\n",
    "    wcss2.append(km.inertia_)"
   ]
  },
  {
   "cell_type": "code",
   "execution_count": 102,
   "metadata": {},
   "outputs": [],
   "source": [
    "kmens4=KMeans(n_clusters=5)"
   ]
  },
  {
   "cell_type": "code",
   "execution_count": 103,
   "metadata": {},
   "outputs": [],
   "source": [
    "kmens4=kmens4.fit(df[['NumberOfMajorSurgeries','PremiumPrice']])"
   ]
  },
  {
   "cell_type": "code",
   "execution_count": 104,
   "metadata": {},
   "outputs": [
    {
     "data": {
      "text/plain": [
       "array([[3.56164384e-01, 2.26027397e+04],\n",
       "       [1.28222997e+00, 2.89547038e+04],\n",
       "       [3.65384615e-01, 1.50528846e+04],\n",
       "       [5.29411765e-01, 3.64941176e+04],\n",
       "       [5.70175439e-01, 2.50263158e+04]])"
      ]
     },
     "execution_count": 104,
     "metadata": {},
     "output_type": "execute_result"
    }
   ],
   "source": [
    "kmens4.cluster_centers_"
   ]
  },
  {
   "cell_type": "code",
   "execution_count": 105,
   "metadata": {},
   "outputs": [
    {
     "data": {
      "text/plain": [
       "array([[3.56164384e-01, 2.26027397e+04],\n",
       "       [1.28222997e+00, 2.89547038e+04],\n",
       "       [3.65384615e-01, 1.50528846e+04],\n",
       "       [5.29411765e-01, 3.64941176e+04],\n",
       "       [5.70175439e-01, 2.50263158e+04]])"
      ]
     },
     "execution_count": 105,
     "metadata": {},
     "output_type": "execute_result"
    }
   ],
   "source": [
    "kmens4.cluster_centers_"
   ]
  },
  {
   "cell_type": "code",
   "execution_count": 106,
   "metadata": {},
   "outputs": [],
   "source": [
    "df['NumberOfMajorSurgeries_PremiumPrice']=kmens4.labels_"
   ]
  },
  {
   "cell_type": "code",
   "execution_count": 109,
   "metadata": {},
   "outputs": [],
   "source": [
    "k_range4=range(1,15)\n",
    "wcss4=[]"
   ]
  },
  {
   "cell_type": "code",
   "execution_count": 110,
   "metadata": {},
   "outputs": [],
   "source": [
    "for k in k_range4:\n",
    "    km=KMeans(n_clusters=k)\n",
    "    km.fit(df[['HistoryOfCancerInFamily','PremiumPrice']])\n",
    "    wcss4.append(km.inertia_)"
   ]
  },
  {
   "cell_type": "code",
   "execution_count": 111,
   "metadata": {},
   "outputs": [
    {
     "data": {
      "text/plain": [
       "[38454211055.6998,\n",
       " 14315311393.42807,\n",
       " 5051387932.752108,\n",
       " 1324728119.5684083,\n",
       " 923680007.8117647,\n",
       " 645365252.9338677,\n",
       " 368392239.18986225,\n",
       " 154920180.3648622,\n",
       " 107502905.02402231,\n",
       " 65296674.15991461,\n",
       " 36859698.739210166,\n",
       " 29918032.060288597,\n",
       " 23245387.094181925,\n",
       " 17692884.2699275]"
      ]
     },
     "execution_count": 111,
     "metadata": {},
     "output_type": "execute_result"
    }
   ],
   "source": [
    "wcss4"
   ]
  },
  {
   "cell_type": "code",
   "execution_count": 112,
   "metadata": {},
   "outputs": [
    {
     "data": {
      "text/html": [
       "<div>\n",
       "<style scoped>\n",
       "    .dataframe tbody tr th:only-of-type {\n",
       "        vertical-align: middle;\n",
       "    }\n",
       "\n",
       "    .dataframe tbody tr th {\n",
       "        vertical-align: top;\n",
       "    }\n",
       "\n",
       "    .dataframe thead th {\n",
       "        text-align: right;\n",
       "    }\n",
       "</style>\n",
       "<table border=\"1\" class=\"dataframe\">\n",
       "  <thead>\n",
       "    <tr style=\"text-align: right;\">\n",
       "      <th></th>\n",
       "      <th>Age</th>\n",
       "      <th>Diabetes</th>\n",
       "      <th>BloodPressureProblems</th>\n",
       "      <th>AnyTransplants</th>\n",
       "      <th>AnyChronicDiseases</th>\n",
       "      <th>Height</th>\n",
       "      <th>Weight</th>\n",
       "      <th>KnownAllergies</th>\n",
       "      <th>HistoryOfCancerInFamily</th>\n",
       "      <th>NumberOfMajorSurgeries</th>\n",
       "      <th>PremiumPrice</th>\n",
       "      <th>Diabetes_PremiumPrice</th>\n",
       "      <th>AnyTransplants_PremiumPrice</th>\n",
       "      <th>HistoryOfCancerInFamily_PremiumPrice</th>\n",
       "      <th>NumberOfMajorSurgeries_PremiumPrice</th>\n",
       "    </tr>\n",
       "  </thead>\n",
       "  <tbody>\n",
       "    <tr>\n",
       "      <th>0</th>\n",
       "      <td>45</td>\n",
       "      <td>0</td>\n",
       "      <td>0</td>\n",
       "      <td>0</td>\n",
       "      <td>0</td>\n",
       "      <td>155</td>\n",
       "      <td>57</td>\n",
       "      <td>0</td>\n",
       "      <td>0</td>\n",
       "      <td>0</td>\n",
       "      <td>25000</td>\n",
       "      <td>1</td>\n",
       "      <td>2</td>\n",
       "      <td>4</td>\n",
       "      <td>4</td>\n",
       "    </tr>\n",
       "    <tr>\n",
       "      <th>1</th>\n",
       "      <td>60</td>\n",
       "      <td>1</td>\n",
       "      <td>0</td>\n",
       "      <td>0</td>\n",
       "      <td>0</td>\n",
       "      <td>180</td>\n",
       "      <td>73</td>\n",
       "      <td>0</td>\n",
       "      <td>0</td>\n",
       "      <td>0</td>\n",
       "      <td>29000</td>\n",
       "      <td>0</td>\n",
       "      <td>1</td>\n",
       "      <td>0</td>\n",
       "      <td>1</td>\n",
       "    </tr>\n",
       "    <tr>\n",
       "      <th>2</th>\n",
       "      <td>36</td>\n",
       "      <td>1</td>\n",
       "      <td>1</td>\n",
       "      <td>0</td>\n",
       "      <td>0</td>\n",
       "      <td>158</td>\n",
       "      <td>59</td>\n",
       "      <td>0</td>\n",
       "      <td>0</td>\n",
       "      <td>1</td>\n",
       "      <td>23000</td>\n",
       "      <td>1</td>\n",
       "      <td>2</td>\n",
       "      <td>2</td>\n",
       "      <td>0</td>\n",
       "    </tr>\n",
       "    <tr>\n",
       "      <th>3</th>\n",
       "      <td>52</td>\n",
       "      <td>1</td>\n",
       "      <td>1</td>\n",
       "      <td>0</td>\n",
       "      <td>1</td>\n",
       "      <td>183</td>\n",
       "      <td>93</td>\n",
       "      <td>0</td>\n",
       "      <td>0</td>\n",
       "      <td>2</td>\n",
       "      <td>28000</td>\n",
       "      <td>0</td>\n",
       "      <td>1</td>\n",
       "      <td>0</td>\n",
       "      <td>1</td>\n",
       "    </tr>\n",
       "    <tr>\n",
       "      <th>4</th>\n",
       "      <td>38</td>\n",
       "      <td>0</td>\n",
       "      <td>0</td>\n",
       "      <td>0</td>\n",
       "      <td>1</td>\n",
       "      <td>166</td>\n",
       "      <td>88</td>\n",
       "      <td>0</td>\n",
       "      <td>0</td>\n",
       "      <td>1</td>\n",
       "      <td>23000</td>\n",
       "      <td>1</td>\n",
       "      <td>2</td>\n",
       "      <td>2</td>\n",
       "      <td>0</td>\n",
       "    </tr>\n",
       "  </tbody>\n",
       "</table>\n",
       "</div>"
      ],
      "text/plain": [
       "   Age  Diabetes  BloodPressureProblems  AnyTransplants  AnyChronicDiseases  \\\n",
       "0   45         0                      0               0                   0   \n",
       "1   60         1                      0               0                   0   \n",
       "2   36         1                      1               0                   0   \n",
       "3   52         1                      1               0                   1   \n",
       "4   38         0                      0               0                   1   \n",
       "\n",
       "   Height  Weight  KnownAllergies  HistoryOfCancerInFamily  \\\n",
       "0     155      57               0                        0   \n",
       "1     180      73               0                        0   \n",
       "2     158      59               0                        0   \n",
       "3     183      93               0                        0   \n",
       "4     166      88               0                        0   \n",
       "\n",
       "   NumberOfMajorSurgeries  PremiumPrice  Diabetes_PremiumPrice  \\\n",
       "0                       0         25000                      1   \n",
       "1                       0         29000                      0   \n",
       "2                       1         23000                      1   \n",
       "3                       2         28000                      0   \n",
       "4                       1         23000                      1   \n",
       "\n",
       "   AnyTransplants_PremiumPrice  HistoryOfCancerInFamily_PremiumPrice  \\\n",
       "0                            2                                     4   \n",
       "1                            1                                     0   \n",
       "2                            2                                     2   \n",
       "3                            1                                     0   \n",
       "4                            2                                     2   \n",
       "\n",
       "   NumberOfMajorSurgeries_PremiumPrice  \n",
       "0                                    4  \n",
       "1                                    1  \n",
       "2                                    0  \n",
       "3                                    1  \n",
       "4                                    0  "
      ]
     },
     "execution_count": 112,
     "metadata": {},
     "output_type": "execute_result"
    }
   ],
   "source": [
    "df.head()"
   ]
  },
  {
   "cell_type": "code",
   "execution_count": 114,
   "metadata": {
    "collapsed": true
   },
   "outputs": [
    {
     "data": {
      "text/plain": [
       "<matplotlib.axes._subplots.AxesSubplot at 0x2025c2433c8>"
      ]
     },
     "execution_count": 114,
     "metadata": {},
     "output_type": "execute_result"
    },
    {
     "data": {
      "image/png": "[encoded data removed]",
      "text/plain": [
       "<Figure size 1080x648 with 1 Axes>"
      ]
     },
     "metadata": {},
     "output_type": "display_data"
    }
   ],
   "source": [
    "plt.figure(figsize = (15,9))\n",
    "df.Age.value_counts().plot(kind='pie')"
   ]
  },
  {
   "cell_type": "code",
   "execution_count": 115,
   "metadata": {
    "collapsed": true
   },
   "outputs": [
    {
     "data": {
      "text/plain": [
       "<matplotlib.axes._subplots.AxesSubplot at 0x2025beea288>"
      ]
     },
     "execution_count": 115,
     "metadata": {},
     "output_type": "execute_result"
    },
    {
     "data": {
      "image/png": "[encoded data removed]",
      "text/plain": [
       "<Figure size 1080x648 with 2 Axes>"
      ]
     },
     "metadata": {},
     "output_type": "display_data"
    }
   ],
   "source": [
    "plt.figure(figsize = (15,9))\n",
    "sns.heatmap(df.corr(), annot = True)"
   ]
  },
  {
   "cell_type": "code",
   "execution_count": 116,
   "metadata": {
    "collapsed": true
   },
   "outputs": [
    {
     "data": {
      "text/plain": [
       "<matplotlib.axes._subplots.AxesSubplot at 0x2025c272648>"
      ]
     },
     "execution_count": 116,
     "metadata": {},
     "output_type": "execute_result"
    },
    {
     "data": {
      "image/png": "[encoded data removed]",
      "text/plain": [
       "<Figure size 432x288 with 1 Axes>"
      ]
     },
     "metadata": {},
     "output_type": "display_data"
    }
   ],
   "source": [
    "sns.scatterplot(x=df[\"Diabetes\"], y=df[\"PremiumPrice\"], \n",
    "data=df)"
   ]
  },
  {
   "cell_type": "code",
   "execution_count": 117,
   "metadata": {
    "collapsed": true
   },
   "outputs": [
    {
     "data": {
      "text/plain": [
       "PremiumPrice                            1.000000\n",
       "Diabetes_PremiumPrice                   0.931347\n",
       "Age                                     0.697540\n",
       "AnyTransplants_PremiumPrice             0.350967\n",
       "AnyTransplants                          0.289056\n",
       "NumberOfMajorSurgeries                  0.264250\n",
       "AnyChronicDiseases                      0.208610\n",
       "BloodPressureProblems                   0.167097\n",
       "Weight                                  0.141507\n",
       "NumberOfMajorSurgeries_PremiumPrice     0.109215\n",
       "HistoryOfCancerInFamily                 0.083139\n",
       "Diabetes                                0.076209\n",
       "HistoryOfCancerInFamily_PremiumPrice    0.068663\n",
       "Height                                  0.026910\n",
       "KnownAllergies                          0.012103\n",
       "Name: PremiumPrice, dtype: float64"
      ]
     },
     "execution_count": 117,
     "metadata": {},
     "output_type": "execute_result"
    }
   ],
   "source": [
    "df.corr().abs()['PremiumPrice'].sort_values(ascending = False)"
   ]
  },
  {
   "cell_type": "code",
   "execution_count": 118,
   "metadata": {
    "collapsed": true
   },
   "outputs": [
    {
     "data": {
      "image/png": "[encoded data removed]",
      "text/plain": [
       "<Figure size 1080x648 with 2 Axes>"
      ]
     },
     "metadata": {},
     "output_type": "display_data"
    }
   ],
   "source": [
    "plt.figure(figsize=(15,9))\n",
    "#cmap = sns.diverging_palette(230, 20, as_cmap=True)\n",
    "sns.heatmap(df.corr(),annot=True,cmap='Dark2_r',linewidths=2)\n",
    "plt.show()"
   ]
  },
  {
   "cell_type": "code",
   "execution_count": 119,
   "metadata": {
    "collapsed": true
   },
   "outputs": [
    {
     "data": {
      "text/plain": [
       "<matplotlib.axes._subplots.AxesSubplot at 0x2025c43dc88>"
      ]
     },
     "execution_count": 119,
     "metadata": {},
     "output_type": "execute_result"
    },
    {
     "data": {
      "image/png": "[encoded data removed]",
      "text/plain": [
       "<Figure size 432x288 with 1 Axes>"
      ]
     },
     "metadata": {},
     "output_type": "display_data"
    }
   ],
   "source": [
    "sns.boxplot(x=df[\"BloodPressureProblems\"], y=df[\"PremiumPrice\"], \n",
    "data=df)"
   ]
  },
  {
   "cell_type": "code",
   "execution_count": 121,
   "metadata": {
    "collapsed": true
   },
   "outputs": [
    {
     "data": {
      "text/plain": [
       "<matplotlib.axes._subplots.AxesSubplot at 0x2025cb51588>"
      ]
     },
     "execution_count": 121,
     "metadata": {},
     "output_type": "execute_result"
    },
    {
     "data": {
      "image/png": "[encoded data removed]",
      "text/plain": [
       "<Figure size 432x288 with 1 Axes>"
      ]
     },
     "metadata": {},
     "output_type": "display_data"
    }
   ],
   "source": [
    "sns.boxenplot(x=df[\"AnyTransplants\"], y=df[\"PremiumPrice\"], \n",
    "data=df)"
   ]
  },
  {
   "cell_type": "code",
   "execution_count": 122,
   "metadata": {
    "collapsed": true
   },
   "outputs": [
    {
     "data": {
      "text/plain": [
       "<matplotlib.axes._subplots.AxesSubplot at 0x2025cbadd08>"
      ]
     },
     "execution_count": 122,
     "metadata": {},
     "output_type": "execute_result"
    },
    {
     "data": {
      "image/png": "[encoded data removed]",
      "text/plain": [
       "<Figure size 432x288 with 1 Axes>"
      ]
     },
     "metadata": {},
     "output_type": "display_data"
    }
   ],
   "source": [
    "sns.barplot(x=df[\"AnyChronicDiseases\"], y=df[\"PremiumPrice\"], \n",
    "data=df)"
   ]
  },
  {
   "cell_type": "code",
   "execution_count": 123,
   "metadata": {
    "collapsed": true
   },
   "outputs": [
    {
     "data": {
      "text/plain": [
       "<matplotlib.axes._subplots.AxesSubplot at 0x2025cb38b08>"
      ]
     },
     "execution_count": 123,
     "metadata": {},
     "output_type": "execute_result"
    },
    {
     "data": {
      "image/png": "[encoded data removed]",
      "text/plain": [
       "<Figure size 432x288 with 1 Axes>"
      ]
     },
     "metadata": {},
     "output_type": "display_data"
    }
   ],
   "source": [
    "sns.distplot(df['PremiumPrice'])"
   ]
  },
  {
   "cell_type": "code",
   "execution_count": 125,
   "metadata": {
    "collapsed": true
   },
   "outputs": [
    {
     "data": {
      "text/plain": [
       "<matplotlib.axes._subplots.AxesSubplot at 0x2025cbc0f08>"
      ]
     },
     "execution_count": 125,
     "metadata": {},
     "output_type": "execute_result"
    },
    {
     "data": {
      "image/png": "[encoded data removed]",
      "text/plain": [
       "<Figure size 432x288 with 1 Axes>"
      ]
     },
     "metadata": {},
     "output_type": "display_data"
    }
   ],
   "source": [
    "sns.lineplot(x=df[\"KnownAllergies\"], y=df[\"PremiumPrice\"],color='red', \n",
    "data=df)"
   ]
  },
  {
   "cell_type": "code",
   "execution_count": 127,
   "metadata": {
    "collapsed": true
   },
   "outputs": [
    {
     "data": {
      "text/plain": [
       "<matplotlib.axes._subplots.AxesSubplot at 0x2025d117dc8>"
      ]
     },
     "execution_count": 127,
     "metadata": {},
     "output_type": "execute_result"
    },
    {
     "data": {
      "image/png": "[encoded data removed]",
      "text/plain": [
       "<Figure size 432x288 with 1 Axes>"
      ]
     },
     "metadata": {},
     "output_type": "display_data"
    }
   ],
   "source": [
    "sns.pointplot(x=df[\"HistoryOfCancerInFamily\"], y=df[\"PremiumPrice\"], color='red',\n",
    "data=df)"
   ]
  },
  {
   "cell_type": "code",
   "execution_count": 128,
   "metadata": {},
   "outputs": [
    {
     "data": {
      "text/html": [
       "<div>\n",
       "<style scoped>\n",
       "    .dataframe tbody tr th:only-of-type {\n",
       "        vertical-align: middle;\n",
       "    }\n",
       "\n",
       "    .dataframe tbody tr th {\n",
       "        vertical-align: top;\n",
       "    }\n",
       "\n",
       "    .dataframe thead th {\n",
       "        text-align: right;\n",
       "    }\n",
       "</style>\n",
       "<table border=\"1\" class=\"dataframe\">\n",
       "  <thead>\n",
       "    <tr style=\"text-align: right;\">\n",
       "      <th></th>\n",
       "      <th>Age</th>\n",
       "      <th>Diabetes</th>\n",
       "      <th>BloodPressureProblems</th>\n",
       "      <th>AnyTransplants</th>\n",
       "      <th>AnyChronicDiseases</th>\n",
       "      <th>Height</th>\n",
       "      <th>Weight</th>\n",
       "      <th>KnownAllergies</th>\n",
       "      <th>HistoryOfCancerInFamily</th>\n",
       "      <th>NumberOfMajorSurgeries</th>\n",
       "      <th>PremiumPrice</th>\n",
       "      <th>Diabetes_PremiumPrice</th>\n",
       "      <th>AnyTransplants_PremiumPrice</th>\n",
       "      <th>HistoryOfCancerInFamily_PremiumPrice</th>\n",
       "      <th>NumberOfMajorSurgeries_PremiumPrice</th>\n",
       "    </tr>\n",
       "  </thead>\n",
       "  <tbody>\n",
       "    <tr>\n",
       "      <th>0</th>\n",
       "      <td>45</td>\n",
       "      <td>0</td>\n",
       "      <td>0</td>\n",
       "      <td>0</td>\n",
       "      <td>0</td>\n",
       "      <td>155</td>\n",
       "      <td>57</td>\n",
       "      <td>0</td>\n",
       "      <td>0</td>\n",
       "      <td>0</td>\n",
       "      <td>25000</td>\n",
       "      <td>1</td>\n",
       "      <td>2</td>\n",
       "      <td>4</td>\n",
       "      <td>4</td>\n",
       "    </tr>\n",
       "    <tr>\n",
       "      <th>1</th>\n",
       "      <td>60</td>\n",
       "      <td>1</td>\n",
       "      <td>0</td>\n",
       "      <td>0</td>\n",
       "      <td>0</td>\n",
       "      <td>180</td>\n",
       "      <td>73</td>\n",
       "      <td>0</td>\n",
       "      <td>0</td>\n",
       "      <td>0</td>\n",
       "      <td>29000</td>\n",
       "      <td>0</td>\n",
       "      <td>1</td>\n",
       "      <td>0</td>\n",
       "      <td>1</td>\n",
       "    </tr>\n",
       "    <tr>\n",
       "      <th>2</th>\n",
       "      <td>36</td>\n",
       "      <td>1</td>\n",
       "      <td>1</td>\n",
       "      <td>0</td>\n",
       "      <td>0</td>\n",
       "      <td>158</td>\n",
       "      <td>59</td>\n",
       "      <td>0</td>\n",
       "      <td>0</td>\n",
       "      <td>1</td>\n",
       "      <td>23000</td>\n",
       "      <td>1</td>\n",
       "      <td>2</td>\n",
       "      <td>2</td>\n",
       "      <td>0</td>\n",
       "    </tr>\n",
       "    <tr>\n",
       "      <th>3</th>\n",
       "      <td>52</td>\n",
       "      <td>1</td>\n",
       "      <td>1</td>\n",
       "      <td>0</td>\n",
       "      <td>1</td>\n",
       "      <td>183</td>\n",
       "      <td>93</td>\n",
       "      <td>0</td>\n",
       "      <td>0</td>\n",
       "      <td>2</td>\n",
       "      <td>28000</td>\n",
       "      <td>0</td>\n",
       "      <td>1</td>\n",
       "      <td>0</td>\n",
       "      <td>1</td>\n",
       "    </tr>\n",
       "    <tr>\n",
       "      <th>4</th>\n",
       "      <td>38</td>\n",
       "      <td>0</td>\n",
       "      <td>0</td>\n",
       "      <td>0</td>\n",
       "      <td>1</td>\n",
       "      <td>166</td>\n",
       "      <td>88</td>\n",
       "      <td>0</td>\n",
       "      <td>0</td>\n",
       "      <td>1</td>\n",
       "      <td>23000</td>\n",
       "      <td>1</td>\n",
       "      <td>2</td>\n",
       "      <td>2</td>\n",
       "      <td>0</td>\n",
       "    </tr>\n",
       "  </tbody>\n",
       "</table>\n",
       "</div>"
      ],
      "text/plain": [
       "   Age  Diabetes  BloodPressureProblems  AnyTransplants  AnyChronicDiseases  \\\n",
       "0   45         0                      0               0                   0   \n",
       "1   60         1                      0               0                   0   \n",
       "2   36         1                      1               0                   0   \n",
       "3   52         1                      1               0                   1   \n",
       "4   38         0                      0               0                   1   \n",
       "\n",
       "   Height  Weight  KnownAllergies  HistoryOfCancerInFamily  \\\n",
       "0     155      57               0                        0   \n",
       "1     180      73               0                        0   \n",
       "2     158      59               0                        0   \n",
       "3     183      93               0                        0   \n",
       "4     166      88               0                        0   \n",
       "\n",
       "   NumberOfMajorSurgeries  PremiumPrice  Diabetes_PremiumPrice  \\\n",
       "0                       0         25000                      1   \n",
       "1                       0         29000                      0   \n",
       "2                       1         23000                      1   \n",
       "3                       2         28000                      0   \n",
       "4                       1         23000                      1   \n",
       "\n",
       "   AnyTransplants_PremiumPrice  HistoryOfCancerInFamily_PremiumPrice  \\\n",
       "0                            2                                     4   \n",
       "1                            1                                     0   \n",
       "2                            2                                     2   \n",
       "3                            1                                     0   \n",
       "4                            2                                     2   \n",
       "\n",
       "   NumberOfMajorSurgeries_PremiumPrice  \n",
       "0                                    4  \n",
       "1                                    1  \n",
       "2                                    0  \n",
       "3                                    1  \n",
       "4                                    0  "
      ]
     },
     "execution_count": 128,
     "metadata": {},
     "output_type": "execute_result"
    }
   ],
   "source": [
    "df.head()"
   ]
  },
  {
   "cell_type": "code",
   "execution_count": 129,
   "metadata": {
    "collapsed": true
   },
   "outputs": [
    {
     "data": {
      "text/plain": [
       "<seaborn.axisgrid.JointGrid at 0x2025d16e548>"
      ]
     },
     "execution_count": 129,
     "metadata": {},
     "output_type": "execute_result"
    },
    {
     "data": {
      "image/png": "[encoded data removed]",
      "text/plain": [
       "<Figure size 432x432 with 3 Axes>"
      ]
     },
     "metadata": {},
     "output_type": "display_data"
    }
   ],
   "source": [
    "sns.jointplot(x=df[\"Height\"], y=df[\"Weight\"],kind='kde',\n",
    "data=df)"
   ]
  },
  {
   "cell_type": "code",
   "execution_count": 130,
   "metadata": {
    "collapsed": true
   },
   "outputs": [
    {
     "data": {
      "text/plain": [
       "<matplotlib.axes._subplots.AxesSubplot at 0x2025e265908>"
      ]
     },
     "execution_count": 130,
     "metadata": {},
     "output_type": "execute_result"
    },
    {
     "data": {
      "image/png": "[encoded data removed]",
      "text/plain": [
       "<Figure size 432x288 with 1 Axes>"
      ]
     },
     "metadata": {},
     "output_type": "display_data"
    }
   ],
   "source": [
    "sns.kdeplot(df['Age'])\n",
    "sns.kdeplot(df['Height'])\n",
    "sns.kdeplot(df['Weight'])"
   ]
  },
  {
   "cell_type": "code",
   "execution_count": 131,
   "metadata": {
    "collapsed": true
   },
   "outputs": [
    {
     "data": {
      "text/plain": [
       "<matplotlib.axes._subplots.AxesSubplot at 0x2025e2b22c8>"
      ]
     },
     "execution_count": 131,
     "metadata": {},
     "output_type": "execute_result"
    },
    {
     "data": {
      "image/png": "[encoded data removed]",
      "text/plain": [
       "<Figure size 432x288 with 1 Axes>"
      ]
     },
     "metadata": {},
     "output_type": "display_data"
    }
   ],
   "source": [
    "sns.violinplot(y=\"Age\",data=df)\n",
    "sns.violinplot(y=\"Height\",data=df,color='orange')\n",
    "sns.violinplot(y=\"Weight\",data=df,color='red')"
   ]
  },
  {
   "cell_type": "code",
   "execution_count": 132,
   "metadata": {
    "collapsed": true
   },
   "outputs": [
    {
     "data": {
      "text/plain": [
       "<matplotlib.axes._subplots.AxesSubplot at 0x2025e36ef48>"
      ]
     },
     "execution_count": 132,
     "metadata": {},
     "output_type": "execute_result"
    },
    {
     "data": {
      "image/png": "[encoded data removed]",
      "text/plain": [
       "<Figure size 432x288 with 1 Axes>"
      ]
     },
     "metadata": {},
     "output_type": "display_data"
    }
   ],
   "source": [
    "df.boxplot(column=\"Age\")\n",
    "df.boxplot(column=\"Height\",color='orange')\n",
    "df.boxplot(column=\"Weight\",color='red')"
   ]
  },
  {
   "cell_type": "code",
   "execution_count": 133,
   "metadata": {},
   "outputs": [
    {
     "data": {
      "text/plain": [
       "<matplotlib.axes._subplots.AxesSubplot at 0x2025e4129c8>"
      ]
     },
     "execution_count": 133,
     "metadata": {},
     "output_type": "execute_result"
    },
    {
     "data": {
      "image/png": "[encoded data removed]",
      "text/plain": [
       "<Figure size 432x288 with 1 Axes>"
      ]
     },
     "metadata": {},
     "output_type": "display_data"
    }
   ],
   "source": [
    "sns.regplot(x=df[\"NumberOfMajorSurgeries\"], y=df[\"PremiumPrice\"], \n",
    "data=df)"
   ]
  },
  {
   "cell_type": "code",
   "execution_count": 134,
   "metadata": {},
   "outputs": [],
   "source": [
    "import sweetviz as sv"
   ]
  },
  {
   "cell_type": "code",
   "execution_count": 135,
   "metadata": {},
   "outputs": [
    {
     "data": {
      "application/vnd.jupyter.widget-view+json": {
       "model_id": "d5602b5b1eeb497e907e0400ce67339b",
       "version_major": 2,
       "version_minor": 0
      },
      "text/plain": [
       "                                             |                                             | [  0%]   00:00 ->…"
      ]
     },
     "metadata": {},
     "output_type": "display_data"
    },
    {
     "name": "stdout",
     "output_type": "stream",
     "text": [
      "Report Analyze.html was generated! NOTEBOOK/COLAB USERS: the web browser MAY not pop up, regardless, the report IS saved in your notebook/colab files.\n"
     ]
    }
   ],
   "source": [
    "data=sv.analyze(df)\n",
    "data.show_html('Analyze.html')"
   ]
  },
  {
   "cell_type": "code",
   "execution_count": 136,
   "metadata": {},
   "outputs": [],
   "source": [
    "from IPython.display import IFrame"
   ]
  },
  {
   "cell_type": "code",
   "execution_count": 137,
   "metadata": {},
   "outputs": [
    {
     "data": {
      "text/html": [
       "\n",
       "        <iframe\n",
       "            width=\"1000\"\n",
       "            height=\"600\"\n",
       "            src=\"Analyze.html\"\n",
       "            frameborder=\"0\"\n",
       "            allowfullscreen\n",
       "        ></iframe>\n",
       "        "
      ],
      "text/plain": [
       "<IPython.lib.display.IFrame at 0x2026159b0c8>"
      ]
     },
     "execution_count": 137,
     "metadata": {},
     "output_type": "execute_result"
    }
   ],
   "source": [
    "IFrame(src='Analyze.html',width=1000,height=600)"
   ]
  },
  {
   "cell_type": "code",
   "execution_count": 139,
   "metadata": {},
   "outputs": [
    {
     "data": {
      "text/plain": [
       "Index(['Age', 'Diabetes', 'BloodPressureProblems', 'AnyTransplants',\n",
       "       'AnyChronicDiseases', 'Height', 'Weight', 'KnownAllergies',\n",
       "       'HistoryOfCancerInFamily', 'NumberOfMajorSurgeries', 'PremiumPrice',\n",
       "       'Diabetes_PremiumPrice', 'AnyTransplants_PremiumPrice',\n",
       "       'HistoryOfCancerInFamily_PremiumPrice',\n",
       "       'NumberOfMajorSurgeries_PremiumPrice'],\n",
       "      dtype='object')"
      ]
     },
     "execution_count": 139,
     "metadata": {},
     "output_type": "execute_result"
    }
   ],
   "source": [
    "df.columns"
   ]
  },
  {
   "cell_type": "code",
   "execution_count": 140,
   "metadata": {},
   "outputs": [],
   "source": [
    "from sklearn.preprocessing import MinMaxScaler\n",
    "from sklearn.preprocessing import StandardScaler"
   ]
  },
  {
   "cell_type": "code",
   "execution_count": 142,
   "metadata": {},
   "outputs": [
    {
     "data": {
      "text/html": [
       "<div>\n",
       "<style scoped>\n",
       "    .dataframe tbody tr th:only-of-type {\n",
       "        vertical-align: middle;\n",
       "    }\n",
       "\n",
       "    .dataframe tbody tr th {\n",
       "        vertical-align: top;\n",
       "    }\n",
       "\n",
       "    .dataframe thead th {\n",
       "        text-align: right;\n",
       "    }\n",
       "</style>\n",
       "<table border=\"1\" class=\"dataframe\">\n",
       "  <thead>\n",
       "    <tr style=\"text-align: right;\">\n",
       "      <th></th>\n",
       "      <th>Age</th>\n",
       "      <th>Diabetes</th>\n",
       "      <th>BloodPressureProblems</th>\n",
       "      <th>AnyTransplants</th>\n",
       "      <th>AnyChronicDiseases</th>\n",
       "      <th>Height</th>\n",
       "      <th>Weight</th>\n",
       "      <th>KnownAllergies</th>\n",
       "      <th>HistoryOfCancerInFamily</th>\n",
       "      <th>NumberOfMajorSurgeries</th>\n",
       "      <th>PremiumPrice</th>\n",
       "      <th>Diabetes_PremiumPrice</th>\n",
       "      <th>AnyTransplants_PremiumPrice</th>\n",
       "      <th>HistoryOfCancerInFamily_PremiumPrice</th>\n",
       "      <th>NumberOfMajorSurgeries_PremiumPrice</th>\n",
       "    </tr>\n",
       "  </thead>\n",
       "  <tbody>\n",
       "    <tr>\n",
       "      <th>0</th>\n",
       "      <td>0.562500</td>\n",
       "      <td>0.0</td>\n",
       "      <td>0.0</td>\n",
       "      <td>0.0</td>\n",
       "      <td>0.0</td>\n",
       "      <td>0.232558</td>\n",
       "      <td>0.074074</td>\n",
       "      <td>0.0</td>\n",
       "      <td>0.0</td>\n",
       "      <td>0.000000</td>\n",
       "      <td>0.40</td>\n",
       "      <td>0.5</td>\n",
       "      <td>1.0</td>\n",
       "      <td>1.00</td>\n",
       "      <td>1.00</td>\n",
       "    </tr>\n",
       "    <tr>\n",
       "      <th>1</th>\n",
       "      <td>0.875000</td>\n",
       "      <td>1.0</td>\n",
       "      <td>0.0</td>\n",
       "      <td>0.0</td>\n",
       "      <td>0.0</td>\n",
       "      <td>0.813953</td>\n",
       "      <td>0.271605</td>\n",
       "      <td>0.0</td>\n",
       "      <td>0.0</td>\n",
       "      <td>0.000000</td>\n",
       "      <td>0.56</td>\n",
       "      <td>0.0</td>\n",
       "      <td>0.5</td>\n",
       "      <td>0.00</td>\n",
       "      <td>0.25</td>\n",
       "    </tr>\n",
       "    <tr>\n",
       "      <th>2</th>\n",
       "      <td>0.375000</td>\n",
       "      <td>1.0</td>\n",
       "      <td>1.0</td>\n",
       "      <td>0.0</td>\n",
       "      <td>0.0</td>\n",
       "      <td>0.302326</td>\n",
       "      <td>0.098765</td>\n",
       "      <td>0.0</td>\n",
       "      <td>0.0</td>\n",
       "      <td>0.333333</td>\n",
       "      <td>0.32</td>\n",
       "      <td>0.5</td>\n",
       "      <td>1.0</td>\n",
       "      <td>0.50</td>\n",
       "      <td>0.00</td>\n",
       "    </tr>\n",
       "    <tr>\n",
       "      <th>3</th>\n",
       "      <td>0.708333</td>\n",
       "      <td>1.0</td>\n",
       "      <td>1.0</td>\n",
       "      <td>0.0</td>\n",
       "      <td>1.0</td>\n",
       "      <td>0.883721</td>\n",
       "      <td>0.518519</td>\n",
       "      <td>0.0</td>\n",
       "      <td>0.0</td>\n",
       "      <td>0.666667</td>\n",
       "      <td>0.52</td>\n",
       "      <td>0.0</td>\n",
       "      <td>0.5</td>\n",
       "      <td>0.00</td>\n",
       "      <td>0.25</td>\n",
       "    </tr>\n",
       "    <tr>\n",
       "      <th>4</th>\n",
       "      <td>0.416667</td>\n",
       "      <td>0.0</td>\n",
       "      <td>0.0</td>\n",
       "      <td>0.0</td>\n",
       "      <td>1.0</td>\n",
       "      <td>0.488372</td>\n",
       "      <td>0.456790</td>\n",
       "      <td>0.0</td>\n",
       "      <td>0.0</td>\n",
       "      <td>0.333333</td>\n",
       "      <td>0.32</td>\n",
       "      <td>0.5</td>\n",
       "      <td>1.0</td>\n",
       "      <td>0.50</td>\n",
       "      <td>0.00</td>\n",
       "    </tr>\n",
       "    <tr>\n",
       "      <th>...</th>\n",
       "      <td>...</td>\n",
       "      <td>...</td>\n",
       "      <td>...</td>\n",
       "      <td>...</td>\n",
       "      <td>...</td>\n",
       "      <td>...</td>\n",
       "      <td>...</td>\n",
       "      <td>...</td>\n",
       "      <td>...</td>\n",
       "      <td>...</td>\n",
       "      <td>...</td>\n",
       "      <td>...</td>\n",
       "      <td>...</td>\n",
       "      <td>...</td>\n",
       "      <td>...</td>\n",
       "    </tr>\n",
       "    <tr>\n",
       "      <th>981</th>\n",
       "      <td>0.000000</td>\n",
       "      <td>0.0</td>\n",
       "      <td>0.0</td>\n",
       "      <td>0.0</td>\n",
       "      <td>0.0</td>\n",
       "      <td>0.558140</td>\n",
       "      <td>0.197531</td>\n",
       "      <td>0.0</td>\n",
       "      <td>0.0</td>\n",
       "      <td>0.000000</td>\n",
       "      <td>0.00</td>\n",
       "      <td>1.0</td>\n",
       "      <td>0.0</td>\n",
       "      <td>0.25</td>\n",
       "      <td>0.50</td>\n",
       "    </tr>\n",
       "    <tr>\n",
       "      <th>982</th>\n",
       "      <td>0.958333</td>\n",
       "      <td>1.0</td>\n",
       "      <td>1.0</td>\n",
       "      <td>0.0</td>\n",
       "      <td>0.0</td>\n",
       "      <td>0.186047</td>\n",
       "      <td>0.234568</td>\n",
       "      <td>0.0</td>\n",
       "      <td>0.0</td>\n",
       "      <td>1.000000</td>\n",
       "      <td>0.52</td>\n",
       "      <td>0.0</td>\n",
       "      <td>0.5</td>\n",
       "      <td>0.00</td>\n",
       "      <td>0.25</td>\n",
       "    </tr>\n",
       "    <tr>\n",
       "      <th>983</th>\n",
       "      <td>0.791667</td>\n",
       "      <td>0.0</td>\n",
       "      <td>1.0</td>\n",
       "      <td>0.0</td>\n",
       "      <td>0.0</td>\n",
       "      <td>0.232558</td>\n",
       "      <td>0.246914</td>\n",
       "      <td>0.0</td>\n",
       "      <td>0.0</td>\n",
       "      <td>0.333333</td>\n",
       "      <td>0.56</td>\n",
       "      <td>0.0</td>\n",
       "      <td>0.5</td>\n",
       "      <td>0.00</td>\n",
       "      <td>0.25</td>\n",
       "    </tr>\n",
       "    <tr>\n",
       "      <th>984</th>\n",
       "      <td>0.604167</td>\n",
       "      <td>1.0</td>\n",
       "      <td>1.0</td>\n",
       "      <td>0.0</td>\n",
       "      <td>0.0</td>\n",
       "      <td>0.302326</td>\n",
       "      <td>0.271605</td>\n",
       "      <td>1.0</td>\n",
       "      <td>0.0</td>\n",
       "      <td>0.333333</td>\n",
       "      <td>0.96</td>\n",
       "      <td>0.0</td>\n",
       "      <td>0.5</td>\n",
       "      <td>0.75</td>\n",
       "      <td>0.75</td>\n",
       "    </tr>\n",
       "    <tr>\n",
       "      <th>985</th>\n",
       "      <td>0.062500</td>\n",
       "      <td>0.0</td>\n",
       "      <td>0.0</td>\n",
       "      <td>0.0</td>\n",
       "      <td>0.0</td>\n",
       "      <td>0.302326</td>\n",
       "      <td>0.296296</td>\n",
       "      <td>1.0</td>\n",
       "      <td>0.0</td>\n",
       "      <td>0.333333</td>\n",
       "      <td>0.00</td>\n",
       "      <td>1.0</td>\n",
       "      <td>0.0</td>\n",
       "      <td>0.25</td>\n",
       "      <td>0.50</td>\n",
       "    </tr>\n",
       "  </tbody>\n",
       "</table>\n",
       "<p>986 rows × 15 columns</p>\n",
       "</div>"
      ],
      "text/plain": [
       "          Age  Diabetes  BloodPressureProblems  AnyTransplants  \\\n",
       "0    0.562500       0.0                    0.0             0.0   \n",
       "1    0.875000       1.0                    0.0             0.0   \n",
       "2    0.375000       1.0                    1.0             0.0   \n",
       "3    0.708333       1.0                    1.0             0.0   \n",
       "4    0.416667       0.0                    0.0             0.0   \n",
       "..        ...       ...                    ...             ...   \n",
       "981  0.000000       0.0                    0.0             0.0   \n",
       "982  0.958333       1.0                    1.0             0.0   \n",
       "983  0.791667       0.0                    1.0             0.0   \n",
       "984  0.604167       1.0                    1.0             0.0   \n",
       "985  0.062500       0.0                    0.0             0.0   \n",
       "\n",
       "     AnyChronicDiseases    Height    Weight  KnownAllergies  \\\n",
       "0                   0.0  0.232558  0.074074             0.0   \n",
       "1                   0.0  0.813953  0.271605             0.0   \n",
       "2                   0.0  0.302326  0.098765             0.0   \n",
       "3                   1.0  0.883721  0.518519             0.0   \n",
       "4                   1.0  0.488372  0.456790             0.0   \n",
       "..                  ...       ...       ...             ...   \n",
       "981                 0.0  0.558140  0.197531             0.0   \n",
       "982                 0.0  0.186047  0.234568             0.0   \n",
       "983                 0.0  0.232558  0.246914             0.0   \n",
       "984                 0.0  0.302326  0.271605             1.0   \n",
       "985                 0.0  0.302326  0.296296             1.0   \n",
       "\n",
       "     HistoryOfCancerInFamily  NumberOfMajorSurgeries  PremiumPrice  \\\n",
       "0                        0.0                0.000000          0.40   \n",
       "1                        0.0                0.000000          0.56   \n",
       "2                        0.0                0.333333          0.32   \n",
       "3                        0.0                0.666667          0.52   \n",
       "4                        0.0                0.333333          0.32   \n",
       "..                       ...                     ...           ...   \n",
       "981                      0.0                0.000000          0.00   \n",
       "982                      0.0                1.000000          0.52   \n",
       "983                      0.0                0.333333          0.56   \n",
       "984                      0.0                0.333333          0.96   \n",
       "985                      0.0                0.333333          0.00   \n",
       "\n",
       "     Diabetes_PremiumPrice  AnyTransplants_PremiumPrice  \\\n",
       "0                      0.5                          1.0   \n",
       "1                      0.0                          0.5   \n",
       "2                      0.5                          1.0   \n",
       "3                      0.0                          0.5   \n",
       "4                      0.5                          1.0   \n",
       "..                     ...                          ...   \n",
       "981                    1.0                          0.0   \n",
       "982                    0.0                          0.5   \n",
       "983                    0.0                          0.5   \n",
       "984                    0.0                          0.5   \n",
       "985                    1.0                          0.0   \n",
       "\n",
       "     HistoryOfCancerInFamily_PremiumPrice  NumberOfMajorSurgeries_PremiumPrice  \n",
       "0                                    1.00                                 1.00  \n",
       "1                                    0.00                                 0.25  \n",
       "2                                    0.50                                 0.00  \n",
       "3                                    0.00                                 0.25  \n",
       "4                                    0.50                                 0.00  \n",
       "..                                    ...                                  ...  \n",
       "981                                  0.25                                 0.50  \n",
       "982                                  0.00                                 0.25  \n",
       "983                                  0.00                                 0.25  \n",
       "984                                  0.75                                 0.75  \n",
       "985                                  0.25                                 0.50  \n",
       "\n",
       "[986 rows x 15 columns]"
      ]
     },
     "execution_count": 142,
     "metadata": {},
     "output_type": "execute_result"
    }
   ],
   "source": [
    "man=MinMaxScaler()\n",
    "feat=['Age', 'Diabetes', 'BloodPressureProblems', 'AnyTransplants',\n",
    "       'AnyChronicDiseases', 'Height', 'Weight', 'KnownAllergies',\n",
    "       'HistoryOfCancerInFamily', 'NumberOfMajorSurgeries', 'PremiumPrice',\n",
    "       'Diabetes_PremiumPrice', 'AnyTransplants_PremiumPrice',\n",
    "       'HistoryOfCancerInFamily_PremiumPrice',\n",
    "       'NumberOfMajorSurgeries_PremiumPrice']\n",
    "df[feat]=man.fit_transform(df[feat])\n",
    "df[feat]"
   ]
  },
  {
   "cell_type": "code",
   "execution_count": 143,
   "metadata": {},
   "outputs": [
    {
     "data": {
      "text/html": [
       "<div>\n",
       "<style scoped>\n",
       "    .dataframe tbody tr th:only-of-type {\n",
       "        vertical-align: middle;\n",
       "    }\n",
       "\n",
       "    .dataframe tbody tr th {\n",
       "        vertical-align: top;\n",
       "    }\n",
       "\n",
       "    .dataframe thead th {\n",
       "        text-align: right;\n",
       "    }\n",
       "</style>\n",
       "<table border=\"1\" class=\"dataframe\">\n",
       "  <thead>\n",
       "    <tr style=\"text-align: right;\">\n",
       "      <th></th>\n",
       "      <th>Age</th>\n",
       "      <th>Diabetes</th>\n",
       "      <th>BloodPressureProblems</th>\n",
       "      <th>AnyTransplants</th>\n",
       "      <th>AnyChronicDiseases</th>\n",
       "      <th>Height</th>\n",
       "      <th>Weight</th>\n",
       "      <th>KnownAllergies</th>\n",
       "      <th>HistoryOfCancerInFamily</th>\n",
       "      <th>NumberOfMajorSurgeries</th>\n",
       "      <th>PremiumPrice</th>\n",
       "      <th>Diabetes_PremiumPrice</th>\n",
       "      <th>AnyTransplants_PremiumPrice</th>\n",
       "      <th>HistoryOfCancerInFamily_PremiumPrice</th>\n",
       "      <th>NumberOfMajorSurgeries_PremiumPrice</th>\n",
       "    </tr>\n",
       "  </thead>\n",
       "  <tbody>\n",
       "    <tr>\n",
       "      <th>0</th>\n",
       "      <td>0.233197</td>\n",
       "      <td>-0.850750</td>\n",
       "      <td>-0.938978</td>\n",
       "      <td>-0.243056</td>\n",
       "      <td>-0.469358</td>\n",
       "      <td>-1.306105</td>\n",
       "      <td>-1.399250</td>\n",
       "      <td>-0.523356</td>\n",
       "      <td>-0.365148</td>\n",
       "      <td>-0.891187</td>\n",
       "      <td>0.106210</td>\n",
       "      <td>0.197109</td>\n",
       "      <td>1.074787</td>\n",
       "      <td>1.911428</td>\n",
       "      <td>1.965620</td>\n",
       "    </tr>\n",
       "    <tr>\n",
       "      <th>1</th>\n",
       "      <td>1.307981</td>\n",
       "      <td>1.175433</td>\n",
       "      <td>-0.938978</td>\n",
       "      <td>-0.243056</td>\n",
       "      <td>-0.469358</td>\n",
       "      <td>1.170852</td>\n",
       "      <td>-0.277062</td>\n",
       "      <td>-0.523356</td>\n",
       "      <td>-0.365148</td>\n",
       "      <td>-0.891187</td>\n",
       "      <td>0.746721</td>\n",
       "      <td>-1.116064</td>\n",
       "      <td>-0.222324</td>\n",
       "      <td>-1.158064</td>\n",
       "      <td>-0.332524</td>\n",
       "    </tr>\n",
       "    <tr>\n",
       "      <th>2</th>\n",
       "      <td>-0.411674</td>\n",
       "      <td>1.175433</td>\n",
       "      <td>1.064988</td>\n",
       "      <td>-0.243056</td>\n",
       "      <td>-0.469358</td>\n",
       "      <td>-1.008870</td>\n",
       "      <td>-1.258976</td>\n",
       "      <td>-0.523356</td>\n",
       "      <td>-0.365148</td>\n",
       "      <td>0.444239</td>\n",
       "      <td>-0.214045</td>\n",
       "      <td>0.197109</td>\n",
       "      <td>1.074787</td>\n",
       "      <td>0.376682</td>\n",
       "      <td>-1.098572</td>\n",
       "    </tr>\n",
       "    <tr>\n",
       "      <th>3</th>\n",
       "      <td>0.734763</td>\n",
       "      <td>1.175433</td>\n",
       "      <td>1.064988</td>\n",
       "      <td>-0.243056</td>\n",
       "      <td>2.130569</td>\n",
       "      <td>1.468086</td>\n",
       "      <td>1.125674</td>\n",
       "      <td>-0.523356</td>\n",
       "      <td>-0.365148</td>\n",
       "      <td>1.779665</td>\n",
       "      <td>0.586594</td>\n",
       "      <td>-1.116064</td>\n",
       "      <td>-0.222324</td>\n",
       "      <td>-1.158064</td>\n",
       "      <td>-0.332524</td>\n",
       "    </tr>\n",
       "    <tr>\n",
       "      <th>4</th>\n",
       "      <td>-0.268369</td>\n",
       "      <td>-0.850750</td>\n",
       "      <td>-0.938978</td>\n",
       "      <td>-0.243056</td>\n",
       "      <td>2.130569</td>\n",
       "      <td>-0.216244</td>\n",
       "      <td>0.774990</td>\n",
       "      <td>-0.523356</td>\n",
       "      <td>-0.365148</td>\n",
       "      <td>0.444239</td>\n",
       "      <td>-0.214045</td>\n",
       "      <td>0.197109</td>\n",
       "      <td>1.074787</td>\n",
       "      <td>0.376682</td>\n",
       "      <td>-1.098572</td>\n",
       "    </tr>\n",
       "    <tr>\n",
       "      <th>...</th>\n",
       "      <td>...</td>\n",
       "      <td>...</td>\n",
       "      <td>...</td>\n",
       "      <td>...</td>\n",
       "      <td>...</td>\n",
       "      <td>...</td>\n",
       "      <td>...</td>\n",
       "      <td>...</td>\n",
       "      <td>...</td>\n",
       "      <td>...</td>\n",
       "      <td>...</td>\n",
       "      <td>...</td>\n",
       "      <td>...</td>\n",
       "      <td>...</td>\n",
       "      <td>...</td>\n",
       "    </tr>\n",
       "    <tr>\n",
       "      <th>981</th>\n",
       "      <td>-1.701415</td>\n",
       "      <td>-0.850750</td>\n",
       "      <td>-0.938978</td>\n",
       "      <td>-0.243056</td>\n",
       "      <td>-0.469358</td>\n",
       "      <td>0.080991</td>\n",
       "      <td>-0.697882</td>\n",
       "      <td>-0.523356</td>\n",
       "      <td>-0.365148</td>\n",
       "      <td>-0.891187</td>\n",
       "      <td>-1.495067</td>\n",
       "      <td>1.510283</td>\n",
       "      <td>-1.519436</td>\n",
       "      <td>-0.390691</td>\n",
       "      <td>0.433524</td>\n",
       "    </tr>\n",
       "    <tr>\n",
       "      <th>982</th>\n",
       "      <td>1.594590</td>\n",
       "      <td>1.175433</td>\n",
       "      <td>1.064988</td>\n",
       "      <td>-0.243056</td>\n",
       "      <td>-0.469358</td>\n",
       "      <td>-1.504261</td>\n",
       "      <td>-0.487472</td>\n",
       "      <td>-0.523356</td>\n",
       "      <td>-0.365148</td>\n",
       "      <td>3.115090</td>\n",
       "      <td>0.586594</td>\n",
       "      <td>-1.116064</td>\n",
       "      <td>-0.222324</td>\n",
       "      <td>-1.158064</td>\n",
       "      <td>-0.332524</td>\n",
       "    </tr>\n",
       "    <tr>\n",
       "      <th>983</th>\n",
       "      <td>1.021372</td>\n",
       "      <td>-0.850750</td>\n",
       "      <td>1.064988</td>\n",
       "      <td>-0.243056</td>\n",
       "      <td>-0.469358</td>\n",
       "      <td>-1.306105</td>\n",
       "      <td>-0.417335</td>\n",
       "      <td>-0.523356</td>\n",
       "      <td>-0.365148</td>\n",
       "      <td>0.444239</td>\n",
       "      <td>0.746721</td>\n",
       "      <td>-1.116064</td>\n",
       "      <td>-0.222324</td>\n",
       "      <td>-1.158064</td>\n",
       "      <td>-0.332524</td>\n",
       "    </tr>\n",
       "    <tr>\n",
       "      <th>984</th>\n",
       "      <td>0.376502</td>\n",
       "      <td>1.175433</td>\n",
       "      <td>1.064988</td>\n",
       "      <td>-0.243056</td>\n",
       "      <td>-0.469358</td>\n",
       "      <td>-1.008870</td>\n",
       "      <td>-0.277062</td>\n",
       "      <td>1.910744</td>\n",
       "      <td>-0.365148</td>\n",
       "      <td>0.444239</td>\n",
       "      <td>2.347998</td>\n",
       "      <td>-1.116064</td>\n",
       "      <td>-0.222324</td>\n",
       "      <td>1.144055</td>\n",
       "      <td>1.199572</td>\n",
       "    </tr>\n",
       "    <tr>\n",
       "      <th>985</th>\n",
       "      <td>-1.486458</td>\n",
       "      <td>-0.850750</td>\n",
       "      <td>-0.938978</td>\n",
       "      <td>-0.243056</td>\n",
       "      <td>-0.469358</td>\n",
       "      <td>-1.008870</td>\n",
       "      <td>-0.136788</td>\n",
       "      <td>1.910744</td>\n",
       "      <td>-0.365148</td>\n",
       "      <td>0.444239</td>\n",
       "      <td>-1.495067</td>\n",
       "      <td>1.510283</td>\n",
       "      <td>-1.519436</td>\n",
       "      <td>-0.390691</td>\n",
       "      <td>0.433524</td>\n",
       "    </tr>\n",
       "  </tbody>\n",
       "</table>\n",
       "<p>986 rows × 15 columns</p>\n",
       "</div>"
      ],
      "text/plain": [
       "          Age  Diabetes  BloodPressureProblems  AnyTransplants  \\\n",
       "0    0.233197 -0.850750              -0.938978       -0.243056   \n",
       "1    1.307981  1.175433              -0.938978       -0.243056   \n",
       "2   -0.411674  1.175433               1.064988       -0.243056   \n",
       "3    0.734763  1.175433               1.064988       -0.243056   \n",
       "4   -0.268369 -0.850750              -0.938978       -0.243056   \n",
       "..        ...       ...                    ...             ...   \n",
       "981 -1.701415 -0.850750              -0.938978       -0.243056   \n",
       "982  1.594590  1.175433               1.064988       -0.243056   \n",
       "983  1.021372 -0.850750               1.064988       -0.243056   \n",
       "984  0.376502  1.175433               1.064988       -0.243056   \n",
       "985 -1.486458 -0.850750              -0.938978       -0.243056   \n",
       "\n",
       "     AnyChronicDiseases    Height    Weight  KnownAllergies  \\\n",
       "0             -0.469358 -1.306105 -1.399250       -0.523356   \n",
       "1             -0.469358  1.170852 -0.277062       -0.523356   \n",
       "2             -0.469358 -1.008870 -1.258976       -0.523356   \n",
       "3              2.130569  1.468086  1.125674       -0.523356   \n",
       "4              2.130569 -0.216244  0.774990       -0.523356   \n",
       "..                  ...       ...       ...             ...   \n",
       "981           -0.469358  0.080991 -0.697882       -0.523356   \n",
       "982           -0.469358 -1.504261 -0.487472       -0.523356   \n",
       "983           -0.469358 -1.306105 -0.417335       -0.523356   \n",
       "984           -0.469358 -1.008870 -0.277062        1.910744   \n",
       "985           -0.469358 -1.008870 -0.136788        1.910744   \n",
       "\n",
       "     HistoryOfCancerInFamily  NumberOfMajorSurgeries  PremiumPrice  \\\n",
       "0                  -0.365148               -0.891187      0.106210   \n",
       "1                  -0.365148               -0.891187      0.746721   \n",
       "2                  -0.365148                0.444239     -0.214045   \n",
       "3                  -0.365148                1.779665      0.586594   \n",
       "4                  -0.365148                0.444239     -0.214045   \n",
       "..                       ...                     ...           ...   \n",
       "981                -0.365148               -0.891187     -1.495067   \n",
       "982                -0.365148                3.115090      0.586594   \n",
       "983                -0.365148                0.444239      0.746721   \n",
       "984                -0.365148                0.444239      2.347998   \n",
       "985                -0.365148                0.444239     -1.495067   \n",
       "\n",
       "     Diabetes_PremiumPrice  AnyTransplants_PremiumPrice  \\\n",
       "0                 0.197109                     1.074787   \n",
       "1                -1.116064                    -0.222324   \n",
       "2                 0.197109                     1.074787   \n",
       "3                -1.116064                    -0.222324   \n",
       "4                 0.197109                     1.074787   \n",
       "..                     ...                          ...   \n",
       "981               1.510283                    -1.519436   \n",
       "982              -1.116064                    -0.222324   \n",
       "983              -1.116064                    -0.222324   \n",
       "984              -1.116064                    -0.222324   \n",
       "985               1.510283                    -1.519436   \n",
       "\n",
       "     HistoryOfCancerInFamily_PremiumPrice  NumberOfMajorSurgeries_PremiumPrice  \n",
       "0                                1.911428                             1.965620  \n",
       "1                               -1.158064                            -0.332524  \n",
       "2                                0.376682                            -1.098572  \n",
       "3                               -1.158064                            -0.332524  \n",
       "4                                0.376682                            -1.098572  \n",
       "..                                    ...                                  ...  \n",
       "981                             -0.390691                             0.433524  \n",
       "982                             -1.158064                            -0.332524  \n",
       "983                             -1.158064                            -0.332524  \n",
       "984                              1.144055                             1.199572  \n",
       "985                             -0.390691                             0.433524  \n",
       "\n",
       "[986 rows x 15 columns]"
      ]
     },
     "execution_count": 143,
     "metadata": {},
     "output_type": "execute_result"
    }
   ],
   "source": [
    "std=StandardScaler()\n",
    "feat=['Age', 'Diabetes', 'BloodPressureProblems', 'AnyTransplants',\n",
    "       'AnyChronicDiseases', 'Height', 'Weight', 'KnownAllergies',\n",
    "       'HistoryOfCancerInFamily', 'NumberOfMajorSurgeries', 'PremiumPrice',\n",
    "       'Diabetes_PremiumPrice', 'AnyTransplants_PremiumPrice',\n",
    "       'HistoryOfCancerInFamily_PremiumPrice',\n",
    "       'NumberOfMajorSurgeries_PremiumPrice']\n",
    "df[feat]=std.fit_transform(df[feat])\n",
    "df[feat]"
   ]
  },
  {
   "cell_type": "code",
   "execution_count": null,
   "metadata": {},
   "outputs": [],
   "source": []
  }
 ],
 "metadata": {
  "kernelspec": {
   "display_name": "Python 3",
   "language": "python",
   "name": "python3"
  },
  "language_info": {
   "codemirror_mode": {
    "name": "ipython",
    "version": 3
   },
   "file_extension": ".py",
   "mimetype": "text/x-python",
   "name": "python",
   "nbconvert_exporter": "python",
   "pygments_lexer": "ipython3",
   "version": "3.7.6"
  }
 },
 "nbformat": 4,
 "nbformat_minor": 4
}
